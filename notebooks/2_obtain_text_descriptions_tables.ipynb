{
 "cells": [
  {
   "cell_type": "code",
   "execution_count": 1,
   "metadata": {},
   "outputs": [
    {
     "data": {
      "text/plain": [
       "polars.config.Config"
      ]
     },
     "execution_count": 1,
     "metadata": {},
     "output_type": "execute_result"
    }
   ],
   "source": [
    "import os\n",
    "import sys\n",
    "\n",
    "import polars as pl\n",
    "from openai import OpenAI\n",
    "from jinja2 import Environment, FileSystemLoader\n",
    "\n",
    "sys.path.append(os.path.abspath(os.path.join(\"..\")))\n",
    "from rag.openai_helpers import (\n",
    "    generate_prompts_from_text_list, \n",
    "    get_num_tokens_from_string, \n",
    "    calculate_token_pricing,\n",
    "    write_requests_to_jsonl,\n",
    "    create_openai_batch_process,\n",
    "    check_openai_batch_status,\n",
    "    read_batch_output_jsonl_to_polars\n",
    ")\n",
    "from rag.parse_pdfs import analyze_pdf_table_content\n",
    "\n",
    "pl.Config.set_fmt_str_lengths(5000)"
   ]
  },
  {
   "cell_type": "code",
   "execution_count": 2,
   "metadata": {},
   "outputs": [],
   "source": [
    "FILE_PATH = \"../data/2023-20-04_JO_7110.65AA.pdf\"\n",
    "\n",
    "GPT_4O_2024_08_06_PRICE_PER_MILLION_INPUT_TOKENS = 2.50\n",
    "GPT_4O_2024_08_06_PRICE_PER_MILLION_OUTPUT_TOKENS = 10.00\n",
    "\n",
    "GPT_4O_2024_08_06_BATCH_PRICE_PER_MILLION_INPUT_TOKENS = 1.25\n",
    "GPT_4O_2024_08_06_BATCH_PRICE_PER_MILLION_OUTPUT_TOKENS = 5.00"
   ]
  },
  {
   "cell_type": "markdown",
   "metadata": {},
   "source": [
    "# Obtain Text Descriptions for Extracted Tables"
   ]
  },
  {
   "cell_type": "code",
   "execution_count": 3,
   "metadata": {},
   "outputs": [
    {
     "name": "stdout",
     "output_type": "stream",
     "text": [
      "98\n"
     ]
    },
    {
     "data": {
      "text/html": [
       "<div><style>\n",
       ".dataframe > thead > tr,\n",
       ".dataframe > tbody > tr {\n",
       "  text-align: right;\n",
       "  white-space: pre-wrap;\n",
       "}\n",
       "</style>\n",
       "<small>shape: (5, 4)</small><table border=\"1\" class=\"dataframe\"><thead><tr><th>page_number</th><th>contains_tables</th><th>table_number</th><th>extracted_table_text</th></tr><tr><td>i64</td><td>i64</td><td>i64</td><td>str</td></tr></thead><tbody><tr><td>2</td><td>1</td><td>1</td><td>&quot;{&#x27;CHANGE\\nTO\\nBASIC&#x27;: [None, None, &#x27;&#x27;, &#x27;&#x27;, &#x27;&#x27;, &#x27;&#x27;, &#x27;&#x27;, &#x27;&#x27;, &#x27;&#x27;, &#x27;&#x27;, &#x27;&#x27;, &#x27;&#x27;, &#x27;&#x27;, &#x27;&#x27;, &#x27;&#x27;, &#x27;&#x27;, &#x27;&#x27;, &#x27;&#x27;, &#x27;&#x27;, &#x27;&#x27;, &#x27;&#x27;, &#x27;&#x27;, &#x27;&#x27;, &#x27;&#x27;, &#x27;&#x27;, &#x27;&#x27;, &#x27;&#x27;, &#x27;&#x27;, &#x27;&#x27;, &#x27;&#x27;, &#x27;&#x27;, &#x27;&#x27;, &#x27;&#x27;, &#x27;&#x27;, &#x27;&#x27;, &#x27;&#x27;, &#x27;&#x27;, &#x27;&#x27;, &#x27;&#x27;, &#x27;&#x27;, &#x27;&#x27;, &#x27;&#x27;, &#x27;&#x27;, &#x27;&#x27;, &#x27;&#x27;, &#x27;&#x27;, &#x27;&#x27;, &#x27;&#x27;, &#x27;&#x27;, &#x27;&#x27;, &#x27;&#x27;, &#x27;&#x27;, &#x27;&#x27;, &#x27;&#x27;, &#x27;&#x27;, &#x27;&#x27;, &#x27;&#x27;, &#x27;&#x27;, &#x27;&#x27;, &#x27;&#x27;, &#x27;&#x27;, &#x27;&#x27;, &#x27;&#x27;, &#x27;&#x27;, &#x27;&#x27;, &#x27;&#x27;, &#x27;&#x27;, &#x27;&#x27;, &#x27;&#x27;, &#x27;&#x27;], &#x27;SUPPLEMENTS&#x27;: [&#x27;&#x27;, &#x27;&#x27;, &#x27;&#x27;, &#x27;&#x27;, &#x27;&#x27;, &#x27;&#x27;, &#x27;&#x27;, &#x27;&#x27;, &#x27;&#x27;, &#x27;&#x27;, &#x27;&#x27;, &#x27;&#x27;, &#x27;&#x27;, &#x27;&#x27;, &#x27;&#x27;, &#x27;&#x27;, &#x27;&#x27;, &#x27;&#x27;, &#x27;&#x27;, &#x27;&#x27;, &#x27;&#x27;, &#x27;&#x27;, &#x27;&#x27;, &#x27;&#x27;, &#x27;&#x27;, &#x27;&#x27;, &#x27;&#x27;, &#x27;&#x27;, &#x27;&#x27;, &#x27;&#x27;, &#x27;&#x27;, &#x27;&#x27;, &#x27;&#x27;, &#x27;&#x27;, &#x27;&#x27;, &#x27;&#x27;, &#x27;&#x27;, &#x27;&#x27;, &#x27;&#x27;, &#x27;&#x27;, &#x27;&#x27;, &#x27;&#x27;, &#x27;&#x27;, &#x27;&#x27;, &#x27;&#x27;, &#x27;&#x27;, &#x27;&#x27;, &#x27;&#x27;, &#x27;&#x27;, &#x27;&#x27;, &#x27;&#x27;, &#x27;&#x27;, &#x27;&#x27;, &#x27;&#x27;, &#x27;&#x27;, &#x27;&#x27;, &#x27;&#x27;, &#x27;&#x27;, &#x27;&#x27;, &#x27;&#x27;, &#x27;&#x27;, &#x27;&#x27;, &#x27;&#x27;, &#x27;&#x27;, &#x27;&#x27;, &#x27;&#x27;, &#x27;&#x27;, &#x27;&#x27;, &#x27;&#x27;, &#x27;&#x27;], None: [&#x27;&#x27;, &#x27;&#x27;, &#x27;&#x27;, &#x27;&#x27;, &#x27;&#x27;, &#x27;&#x27;, &#x27;&#x27;, &#x27;&#x27;, &#x27;&#x27;, &#x27;&#x27;, &#x27;&#x27;, &#x27;&#x27;, &#x27;&#x27;, &#x27;&#x27;, &#x27;&#x27;, &#x27;&#x27;, &#x27;&#x27;, &#x27;&#x27;, &#x27;&#x27;, &#x27;&#x27;, &#x27;&#x27;, &#x27;&#x27;, &#x27;&#x27;, &#x27;&#x27;, &#x27;&#x27;, &#x27;&#x27;, &#x27;&#x27;, &#x27;&#x27;, &#x27;&#x27;, &#x27;&#x27;, &#x27;&#x27;, &#x27;&#x27;, &#x27;&#x27;, &#x27;&#x27;, &#x27;&#x27;, &#x27;&#x27;, &#x27;&#x27;, &#x27;&#x27;, &#x27;&#x27;, &#x27;&#x27;, &#x27;&#x27;, &#x27;&#x27;, &#x27;&#x27;, &#x27;&#x27;, &#x27;&#x27;, &#x27;&#x27;, &#x27;&#x27;, &#x27;&#x27;, &#x27;&#x27;, &#x27;&#x27;, &#x27;&#x27;, &#x27;&#x27;, &#x27;&#x27;, &#x27;&#x27;, &#x27;&#x27;, &#x27;&#x27;, &#x27;&#x27;, &#x27;&#x27;, &#x27;&#x27;, &#x27;&#x27;, &#x27;&#x27;, &#x27;&#x27;, &#x27;&#x27;, &#x27;&#x27;, &#x27;&#x27;, &#x27;&#x27;, &#x27;&#x27;, &#x27;&#x27;, &#x27;&#x27;, &#x27;&#x27;, &#x27;&#x27;, &#x27;&#x27;, &#x27;&#x27;, &#x27;&#x27;, &#x27;&#x27;, &#x27;&#x27;, &#x27;&#x27;, &#x27;&#x27;, &#x27;&#x27;, &#x27;&#x27;, &#x27;&#x27;, &#x27;&#x27;, &#x27;&#x27;, &#x27;&#x27;, &#x27;&#x27;, &#x27;&#x27;, &#x27;&#x27;, &#x27;&#x27;, &#x27;&#x27;, &#x27;&#x27;, &#x27;&#x27;, &#x27;&#x27;, &#x27;&#x27;, &#x27;&#x27;, &#x27;&#x27;, &#x27;&#x27;, &#x27;&#x27;, &#x27;&#x27;, &#x27;&#x27;, &#x27;&#x27;, &#x27;&#x27;, &#x27;&#x27;, &#x27;&#x27;, &#x27;&#x27;, &#x27;&#x27;, &#x27;&#x27;, &#x27;&#x27;, &#x27;&#x27;, &#x27;&#x27;, &#x27;&#x27;, &#x27;&#x27;, &#x27;&#x27;, &#x27;&#x27;, &#x27;&#x27;, &#x27;&#x27;, &#x27;&#x27;, &#x27;&#x27;, &#x27;&#x27;, &#x27;&#x27;, &#x27;&#x27;, &#x27;&#x27;, &#x27;&#x27;, &#x27;&#x27;, &#x27;&#x27;, &#x27;&#x27;, &#x27;&#x27;, &#x27;&#x27;, &#x27;&#x27;, &#x27;&#x27;, &#x27;&#x27;, &#x27;&#x27;, &#x27;&#x27;, &#x27;&#x27;, &#x27;&#x27;, &#x27;&#x27;, &#x27;&#x27;, &#x27;&#x27;, &#x27;&#x27;, &#x27;&#x27;, &#x27;&#x27;], &#x27;OPTIONAL&#x27;: [None, None, &#x27;&#x27;, &#x27;&#x27;, &#x27;&#x27;, &#x27;&#x27;, &#x27;&#x27;, &#x27;&#x27;, &#x27;&#x27;, &#x27;&#x27;, &#x27;&#x27;, &#x27;&#x27;, &#x27;&#x27;, &#x27;&#x27;, &#x27;&#x27;, &#x27;&#x27;, &#x27;&#x27;, &#x27;&#x27;, &#x27;&#x27;, &#x27;&#x27;, &#x27;&#x27;, &#x27;&#x27;, &#x27;&#x27;, &#x27;&#x27;, &#x27;&#x27;, &#x27;&#x27;, &#x27;&#x27;, &#x27;&#x27;, &#x27;&#x27;, &#x27;&#x27;, &#x27;&#x27;, &#x27;&#x27;, &#x27;&#x27;, &#x27;&#x27;, &#x27;&#x27;, &#x27;&#x27;, &#x27;&#x27;, &#x27;&#x27;, &#x27;&#x27;, &#x27;&#x27;, &#x27;&#x27;, &#x27;&#x27;, &#x27;&#x27;, &#x27;&#x27;, &#x27;&#x27;, &#x27;&#x27;, &#x27;&#x27;, &#x27;&#x27;, &#x27;&#x27;, &#x27;&#x27;, &#x27;&#x27;, &#x27;&#x27;, &#x27;&#x27;, &#x27;&#x27;, &#x27;&#x27;, &#x27;&#x27;, &#x27;&#x27;, &#x27;&#x27;, &#x27;&#x27;, &#x27;&#x27;, &#x27;&#x27;, &#x27;&#x27;, &#x27;&#x27;, &#x27;&#x27;, &#x27;&#x27;, &#x27;&#x27;, &#x27;&#x27;, &#x27;&#x27;, &#x27;&#x27;, &#x27;&#x27;]}&quot;</td></tr><tr><td>25</td><td>1</td><td>1</td><td>&quot;{&#x27;Basic or\\nChange&#x27;: [&#x27;JO 7110.65AA&#x27;, &#x27;Change 1&#x27;, &#x27;Change 2&#x27;, &#x27;Change 3&#x27;, &#x27;JO 7110.65BB&#x27;, &#x27;Change 1&#x27;, &#x27;Change 2&#x27;, &#x27;Change 3&#x27;], &#x27;Cutoff Date for\\nCompletion&#x27;: [&#x27;11/3/22&#x27;, &#x27;4/20/23&#x27;, &#x27;10/5/23&#x27;, &#x27;3/21/24&#x27;, &#x27;9/5/24&#x27;, &#x27;2/20/25&#x27;, &#x27;8/7/25&#x27;, &#x27;1/22/26&#x27;], &#x27;Effective Date\\nof Publication&#x27;: [&#x27;4/20/23&#x27;, &#x27;10/5/23&#x27;, &#x27;3/21/24&#x27;, &#x27;9/5/24&#x27;, &#x27;2/20/25&#x27;, &#x27;8/7/25&#x27;, &#x27;1/22/26&#x27;, &#x27;7/9/26&#x27;]}&quot;</td></tr><tr><td>26</td><td>1</td><td>1</td><td>&quot;{&#x27;Military\\nHeadquarters&#x27;: [&#x27;U.S. Army\\nUSAASA&#x27;, &#x27;U.S. Air Force\\nHQ AFFSA&#x27;, &#x27;U.S. Navy\\nCNO (N980A)&#x27;], &#x27;DSN&#x27;: [&#x27;656−4868&#x27;, &#x27;884-5509&#x27;, &#x27;224−2638&#x27;], &#x27;Commercial&#x27;: [&#x27;(703) 806−4868&#x27;, &#x27;(405) 734-5509&#x27;, &#x27;(703) 614−2638&#x27;]}&quot;</td></tr><tr><td>27</td><td>1</td><td>1</td><td>&quot;{&#x27;Branch&#x27;: [&#x27;U.S. Navy&#x27;, &#x27;U.S. Air Force&#x27;, &#x27;U.S. Army&#x27;], &#x27;Address&#x27;: [&#x27;Department of the Navy\\nChief of Naval Operations\\nN980A, NAATSEA\\n2000 Navy Pentagon (5D453)\\nWashington, D.C. 20350−2000&#x27;, &#x27;HQ AFFSA\\n5316 S. Douglas Blvd\\nBldg 8400, Room 232\\nOklahoma City, OK 73150&#x27;, &#x27;Director\\nUSAASA (MOAS−AS)\\n9325 Gunston Road, Suite N319\\nFt. Belvoir, VA 22060−5582&#x27;]}&quot;</td></tr><tr><td>32</td><td>1</td><td>1</td><td>&quot;{&#x27;Abbreviation&#x27;: [&#x27;AAR .......&#x27;, &#x27;AAR .......&#x27;, &#x27;AC ........&#x27;, &#x27;ACC .......&#x27;, &#x27;ACE−IDS . . .&#x27;, &#x27;ACL .......&#x27;, &#x27;ACLS ......&#x27;, &#x27;ADAR .....&#x27;, &#x27;ADC .......&#x27;, &#x27;ADIZ ......&#x27;, &#x27;ADR .......&#x27;, &#x27;ADS .......&#x27;, &#x27;ADS−B .....&#x27;, &#x27;ADS−C .....&#x27;, &#x27;AFP .......&#x27;, &#x27;AIDC ......&#x27;, &#x27;AIM .......&#x27;, &#x27;AIRMET . . .&#x27;, &#x27;ALDARS . . .&#x27;, &#x27;ALERFA . . .&#x27;, &#x27;ALNOT ....&#x27;, &#x27;ALS .......&#x27;, &#x27;ALTRV .....&#x27;, &#x27;AM ........&#x27;, &#x27;AMASS ....&#x27;, &#x27;AMB ......&#x27;, &#x27;AMVER ....&#x27;, &#x27;ANG .......&#x27;, &#x27;APR .......&#x27;], &#x27;Meaning&#x27;: [&#x27;Adapted arrival route&#x27;, &#x27;Airport arrival rate&#x27;, &#x27;Advisory Circular&#x27;, &#x27;Area Control Center&#x27;, &#x27;ASOS Controller Equipment− Information\\nDisplay System&#x27;, &#x27;Aircraft list&#x27;, &#x27;Automatic Carrier Landing System&#x27;, &#x27;Adapted departure arrival route&#x27;, &#x27;Aerospace Defense Command&#x27;, &#x27;Air Defense Identification Zone (to be\\npronounced “AY DIZ”)&#x27;, &#x27;Adapted departure route&#x27;, &#x27;Automatic Dependent Surveillance&#x27;, &#x27;Automatic Dependent\\nSurveillance−Broadcast&#x27;, &#x27;Automatic Dependent\\nSurveillance−Contract&#x27;, &#x27;Airspace Flow Program&#x27;, &#x27;ATS Interfacility Data Communications&#x27;, &#x27;Aeronautical Information Manual&#x27;, &#x27;Airmen’s meteorological information&#x27;, &#x27;Automated Lightning Detection and\\nReporting System&#x27;, &#x27;Alert phase code (Alerting Service)&#x27;, &#x27;Alert notice&#x27;, &#x27;Approach Light System&#x27;, &#x27;Altitude reservation&#x27;, &#x27;Ambiguity−A disparity greater than a\\nlocally adapted distance exists between the\\nposition declared for a target by MEARTS\\nand another facility’s computer declared\\nposition during interfacility handoff&#x27;, &#x27;Airport Movement Area Safety System&#x27;, &#x27;Ambiguity−A disparity greater than a\\nlocally adapted distance exists between the\\nposition declared for a target by STARS\\nand another facility’s computer declared\\nposition during interfacility handoff&#x27;, &#x27;Automated Mutual Assistance Vessel\\nRescue System&#x27;, &#x27;Air National Guard&#x27;, &#x27;ATC preferred route&#x27;]}&quot;</td></tr></tbody></table></div>"
      ],
      "text/plain": [
       "shape: (5, 4)\n",
       "┌─────────────┬─────────────────┬──────────────┬───────────────────────────────────────────────────┐\n",
       "│ page_number ┆ contains_tables ┆ table_number ┆ extracted_table_text                              │\n",
       "│ ---         ┆ ---             ┆ ---          ┆ ---                                               │\n",
       "│ i64         ┆ i64             ┆ i64          ┆ str                                               │\n",
       "╞═════════════╪═════════════════╪══════════════╪═══════════════════════════════════════════════════╡\n",
       "│ 2           ┆ 1               ┆ 1            ┆ {'CHANGE\\nTO\\nBASIC': [None, None, '', '', '',    │\n",
       "│             ┆                 ┆              ┆ '', '', '', '', '', '', '', '', '', '', '', '',   │\n",
       "│             ┆                 ┆              ┆ '', '', '', '', '', '', '', '', '', '', '', '',   │\n",
       "│             ┆                 ┆              ┆ '', '', '', '', '', '', '', '', '', '', '', '',   │\n",
       "│             ┆                 ┆              ┆ '', '', '', '', '', '', '', '', '', '', '', '',   │\n",
       "│             ┆                 ┆              ┆ '', '', '', '', '', '', '', '', '', '', '', '',   │\n",
       "│             ┆                 ┆              ┆ '', '', '', '', ''], 'SUPPLEMENTS': ['', '', '',  │\n",
       "│             ┆                 ┆              ┆ '', '', '', '', '', '', '', '', '', '', '', '',   │\n",
       "│             ┆                 ┆              ┆ '', '', '', '', '', '', '', '', '', '', '', '',   │\n",
       "│             ┆                 ┆              ┆ '', '', '', '', '', '', '', '', '', '', '', '',   │\n",
       "│             ┆                 ┆              ┆ '', '', '', '', '', '', '', '', '', '', '', '',   │\n",
       "│             ┆                 ┆              ┆ '', '', '', '', '', '', '', '', '', '', '', '',   │\n",
       "│             ┆                 ┆              ┆ '', '', '', '', '', '', ''], None: ['', '', '',   │\n",
       "│             ┆                 ┆              ┆ '', '', '', '', '', '', '', '', '', '', '', '',   │\n",
       "│             ┆                 ┆              ┆ '', '', '', '', '', '', '', '', '', '', '', '',   │\n",
       "│             ┆                 ┆              ┆ '', '', '', '', '', '', '', '', '', '', '', '',   │\n",
       "│             ┆                 ┆              ┆ '', '', '', '', '', '', '', '', '', '', '', '',   │\n",
       "│             ┆                 ┆              ┆ '', '', '', '', '', '', '', '', '', '', '', '',   │\n",
       "│             ┆                 ┆              ┆ '', '', '', '', '', '', '', '', '', '', '', '',   │\n",
       "│             ┆                 ┆              ┆ '', '', '', '', '', '', '', '', '', '', '', '',   │\n",
       "│             ┆                 ┆              ┆ '', '', '', '', '', '', '', '', '', '', '', '',   │\n",
       "│             ┆                 ┆              ┆ '', '', '', '', '', '', '', '', '', '', '', '',   │\n",
       "│             ┆                 ┆              ┆ '', '', '', '', '', '', '', '', '', '', '', '',   │\n",
       "│             ┆                 ┆              ┆ '', '', '', '', '', '', '', '', '', '', '', '',   │\n",
       "│             ┆                 ┆              ┆ '', '', '', '', ''], 'OPTIONAL': [None, None, '', │\n",
       "│             ┆                 ┆              ┆ '', '', '', '', '', '', '', '', '', '', '', '',   │\n",
       "│             ┆                 ┆              ┆ '', '', '', '', '', '', '', '', '', '', '', '',   │\n",
       "│             ┆                 ┆              ┆ '', '', '', '', '', '', '', '', '', '', '', '',   │\n",
       "│             ┆                 ┆              ┆ '', '', '', '', '', '', '', '', '', '', '', '',   │\n",
       "│             ┆                 ┆              ┆ '', '', '', '', '', '', '', '', '', '', '', '',   │\n",
       "│             ┆                 ┆              ┆ '', '', '', '', '', '', '']}                      │\n",
       "│ 25          ┆ 1               ┆ 1            ┆ {'Basic or\\nChange': ['JO 7110.65AA', 'Change 1', │\n",
       "│             ┆                 ┆              ┆ 'Change 2', 'Change 3', 'JO 7110.65BB', 'Change   │\n",
       "│             ┆                 ┆              ┆ 1', 'Change 2', 'Change 3'], 'Cutoff Date         │\n",
       "│             ┆                 ┆              ┆ for\\nCompletion': ['11/3/22', '4/20/23',          │\n",
       "│             ┆                 ┆              ┆ '10/5/23', '3/21/24', '9/5/24', '2/20/25',        │\n",
       "│             ┆                 ┆              ┆ '8/7/25', '1/22/26'], 'Effective Date\\nof         │\n",
       "│             ┆                 ┆              ┆ Publication': ['4/20/23', '10/5/23', '3/21/24',   │\n",
       "│             ┆                 ┆              ┆ '9/5/24', '2/20/25', '8/7/25', '1/22/26',         │\n",
       "│             ┆                 ┆              ┆ '7/9/26']}                                        │\n",
       "│ 26          ┆ 1               ┆ 1            ┆ {'Military\\nHeadquarters': ['U.S. Army\\nUSAASA',  │\n",
       "│             ┆                 ┆              ┆ 'U.S. Air Force\\nHQ AFFSA', 'U.S. Navy\\nCNO       │\n",
       "│             ┆                 ┆              ┆ (N980A)'], 'DSN': ['656−4868', '884-5509',        │\n",
       "│             ┆                 ┆              ┆ '224−2638'], 'Commercial': ['(703) 806−4868',     │\n",
       "│             ┆                 ┆              ┆ '(405) 734-5509', '(703) 614−2638']}              │\n",
       "│ 27          ┆ 1               ┆ 1            ┆ {'Branch': ['U.S. Navy', 'U.S. Air Force', 'U.S.  │\n",
       "│             ┆                 ┆              ┆ Army'], 'Address': ['Department of the            │\n",
       "│             ┆                 ┆              ┆ Navy\\nChief of Naval Operations\\nN980A,           │\n",
       "│             ┆                 ┆              ┆ NAATSEA\\n2000 Navy Pentagon (5D453)\\nWashington,  │\n",
       "│             ┆                 ┆              ┆ D.C. 20350−2000', 'HQ AFFSA\\n5316 S. Douglas      │\n",
       "│             ┆                 ┆              ┆ Blvd\\nBldg 8400, Room 232\\nOklahoma City, OK      │\n",
       "│             ┆                 ┆              ┆ 73150', 'Director\\nUSAASA (MOAS−AS)\\n9325 Gunston │\n",
       "│             ┆                 ┆              ┆ Road, Suite N319\\nFt. Belvoir, VA 22060−5582']}   │\n",
       "│ 32          ┆ 1               ┆ 1            ┆ {'Abbreviation': ['AAR .......', 'AAR .......',   │\n",
       "│             ┆                 ┆              ┆ 'AC ........', 'ACC .......', 'ACE−IDS . . .',    │\n",
       "│             ┆                 ┆              ┆ 'ACL .......', 'ACLS ......', 'ADAR .....', 'ADC  │\n",
       "│             ┆                 ┆              ┆ .......', 'ADIZ ......', 'ADR .......', 'ADS      │\n",
       "│             ┆                 ┆              ┆ .......', 'ADS−B .....', 'ADS−C .....', 'AFP      │\n",
       "│             ┆                 ┆              ┆ .......', 'AIDC ......', 'AIM .......', 'AIRMET . │\n",
       "│             ┆                 ┆              ┆ . .', 'ALDARS . . .', 'ALERFA . . .', 'ALNOT      │\n",
       "│             ┆                 ┆              ┆ ....', 'ALS .......', 'ALTRV .....', 'AM          │\n",
       "│             ┆                 ┆              ┆ ........', 'AMASS ....', 'AMB ......', 'AMVER     │\n",
       "│             ┆                 ┆              ┆ ....', 'ANG .......', 'APR .......'], 'Meaning':  │\n",
       "│             ┆                 ┆              ┆ ['Adapted arrival route', 'Airport arrival rate', │\n",
       "│             ┆                 ┆              ┆ 'Advisory Circular', 'Area Control Center', 'ASOS │\n",
       "│             ┆                 ┆              ┆ Controller Equipment− Information\\nDisplay        │\n",
       "│             ┆                 ┆              ┆ System', 'Aircraft list', 'Automatic Carrier      │\n",
       "│             ┆                 ┆              ┆ Landing System', 'Adapted departure arrival       │\n",
       "│             ┆                 ┆              ┆ route', 'Aerospace Defense Command', 'Air Defense │\n",
       "│             ┆                 ┆              ┆ Identification Zone (to be\\npronounced “AY        │\n",
       "│             ┆                 ┆              ┆ DIZ”)', 'Adapted departure route', 'Automatic     │\n",
       "│             ┆                 ┆              ┆ Dependent Surveillance', 'Automatic               │\n",
       "│             ┆                 ┆              ┆ Dependent\\nSurveillance−Broadcast', 'Automatic    │\n",
       "│             ┆                 ┆              ┆ Dependent\\nSurveillance−Contract', 'Airspace Flow │\n",
       "│             ┆                 ┆              ┆ Program', 'ATS Interfacility Data                 │\n",
       "│             ┆                 ┆              ┆ Communications', 'Aeronautical Information        │\n",
       "│             ┆                 ┆              ┆ Manual', 'Airmen’s meteorological information',   │\n",
       "│             ┆                 ┆              ┆ 'Automated Lightning Detection and\\nReporting     │\n",
       "│             ┆                 ┆              ┆ System', 'Alert phase code (Alerting Service)',   │\n",
       "│             ┆                 ┆              ┆ 'Alert notice', 'Approach Light System',          │\n",
       "│             ┆                 ┆              ┆ 'Altitude reservation', 'Ambiguity−A disparity    │\n",
       "│             ┆                 ┆              ┆ greater than a\\nlocally adapted distance exists   │\n",
       "│             ┆                 ┆              ┆ between the\\nposition declared for a target by    │\n",
       "│             ┆                 ┆              ┆ MEARTS\\nand another facility’s computer           │\n",
       "│             ┆                 ┆              ┆ declared\\nposition during interfacility handoff', │\n",
       "│             ┆                 ┆              ┆ 'Airport Movement Area Safety System',            │\n",
       "│             ┆                 ┆              ┆ 'Ambiguity−A disparity greater than a\\nlocally    │\n",
       "│             ┆                 ┆              ┆ adapted distance exists between the\\nposition     │\n",
       "│             ┆                 ┆              ┆ declared for a target by STARS\\nand another       │\n",
       "│             ┆                 ┆              ┆ facility’s computer declared\\nposition during     │\n",
       "│             ┆                 ┆              ┆ interfacility handoff', 'Automated Mutual         │\n",
       "│             ┆                 ┆              ┆ Assistance Vessel\\nRescue System', 'Air National  │\n",
       "│             ┆                 ┆              ┆ Guard', 'ATC preferred route']}                   │\n",
       "└─────────────┴─────────────────┴──────────────┴───────────────────────────────────────────────────┘"
      ]
     },
     "execution_count": 3,
     "metadata": {},
     "output_type": "execute_result"
    }
   ],
   "source": [
    "df_tables = analyze_pdf_table_content(FILE_PATH)\n",
    "print(df_tables.height)\n",
    "df_tables.head()"
   ]
  },
  {
   "cell_type": "markdown",
   "metadata": {},
   "source": [
    "## Example Table Text"
   ]
  },
  {
   "cell_type": "code",
   "execution_count": 4,
   "metadata": {},
   "outputs": [
    {
     "data": {
      "text/html": [
       "<div><style>\n",
       ".dataframe > thead > tr,\n",
       ".dataframe > tbody > tr {\n",
       "  text-align: right;\n",
       "  white-space: pre-wrap;\n",
       "}\n",
       "</style>\n",
       "<small>shape: (1, 4)</small><table border=\"1\" class=\"dataframe\"><thead><tr><th>page_number</th><th>contains_tables</th><th>table_number</th><th>extracted_table_text</th></tr><tr><td>i64</td><td>i64</td><td>i64</td><td>str</td></tr></thead><tbody><tr><td>87</td><td>1</td><td>4</td><td>&quot;{&#x27;As Zero&#x27;: [&#x27;“Field elevation one six zero.”\\n“Heading three zero zero.”\\n“One zero thousand five\\nhundred.”&#x27;], &#x27;As Group&#x27;: [&#x27;“Western five thirty.”\\n“EMAIR One Ten.”\\n“Ten thousand five hundred.”&#x27;]}&quot;</td></tr></tbody></table></div>"
      ],
      "text/plain": [
       "shape: (1, 4)\n",
       "┌─────────────┬─────────────────┬──────────────┬───────────────────────────────────────────────────┐\n",
       "│ page_number ┆ contains_tables ┆ table_number ┆ extracted_table_text                              │\n",
       "│ ---         ┆ ---             ┆ ---          ┆ ---                                               │\n",
       "│ i64         ┆ i64             ┆ i64          ┆ str                                               │\n",
       "╞═════════════╪═════════════════╪══════════════╪═══════════════════════════════════════════════════╡\n",
       "│ 87          ┆ 1               ┆ 4            ┆ {'As Zero': ['“Field elevation one six            │\n",
       "│             ┆                 ┆              ┆ zero.”\\n“Heading three zero zero.”\\n“One zero     │\n",
       "│             ┆                 ┆              ┆ thousand five\\nhundred.”'], 'As Group':           │\n",
       "│             ┆                 ┆              ┆ ['“Western five thirty.”\\n“EMAIR One Ten.”\\n“Ten  │\n",
       "│             ┆                 ┆              ┆ thousand five hundred.”']}                        │\n",
       "└─────────────┴─────────────────┴──────────────┴───────────────────────────────────────────────────┘"
      ]
     },
     "execution_count": 4,
     "metadata": {},
     "output_type": "execute_result"
    }
   ],
   "source": [
    "df_tables[44]"
   ]
  },
  {
   "cell_type": "code",
   "execution_count": 5,
   "metadata": {},
   "outputs": [
    {
     "data": {
      "text/plain": [
       "\"{'As Zero': ['“Field elevation one six zero.”\\\\n“Heading three zero zero.”\\\\n“One zero thousand five\\\\nhundred.”'], 'As Group': ['“Western five thirty.”\\\\n“EMAIR One Ten.”\\\\n“Ten thousand five hundred.”']}\""
      ]
     },
     "execution_count": 5,
     "metadata": {},
     "output_type": "execute_result"
    }
   ],
   "source": [
    "table = df_tables[44][\"extracted_table_text\"][0]\n",
    "table"
   ]
  },
  {
   "cell_type": "code",
   "execution_count": 6,
   "metadata": {},
   "outputs": [
    {
     "name": "stdout",
     "output_type": "stream",
     "text": [
      "Please provide a detailed description in paragraph format consisting of only sentences and no bullet points or lists going over the content of a table. \n",
      "This table is formatted as a Python dictionary in which each key represents a column name and the corresponding value is a list of strings representing the row values for that column.\n",
      "Do not explicitly state that the table is formatted as a Python dictionary.\n",
      "\n",
      "TABLE\n",
      "-----\n",
      "{'As Zero': ['“Field elevation one six zero.”\\n“Heading three zero zero.”\\n“One zero thousand five\\nhundred.”'], 'As Group': ['“Western five thirty.”\\n“EMAIR One Ten.”\\n“Ten thousand five hundred.”']}\n"
     ]
    }
   ],
   "source": [
    "environment = Environment(loader=FileSystemLoader(\"../prompts/\"))\n",
    "template = environment.get_template(\"table_to_text_prompt.jinja2\")\n",
    "table_to_text_prompt = template.render(text=table)\n",
    "print(table_to_text_prompt)"
   ]
  },
  {
   "cell_type": "code",
   "execution_count": null,
   "metadata": {},
   "outputs": [],
   "source": [
    "# client = OpenAI(\n",
    "#     api_key=os.environ.get(\"OPENAI_API_KEY\"),\n",
    "# )"
   ]
  },
  {
   "cell_type": "code",
   "execution_count": null,
   "metadata": {},
   "outputs": [],
   "source": [
    "# chat_completion = client.chat.completions.create(\n",
    "#     messages=[\n",
    "#             {\n",
    "#                 \"role\": \"user\",\n",
    "#                 \"content\": f\"{table_to_text_prompt}\",\n",
    "#             }\n",
    "#         ],\n",
    "#         model=\"gpt-4o-2024-08-06\",\n",
    "#         temperature=0,\n",
    "#         seed=42,\n",
    "#     )\n",
    "# print(chat_completion.choices[0].message.content)"
   ]
  },
  {
   "cell_type": "markdown",
   "metadata": {},
   "source": [
    "<img src=\"images/2_obtain_text_descriptions_images_tables_example_1.png\" alt=\"Original Table\" width=\"1200\" />"
   ]
  },
  {
   "cell_type": "markdown",
   "metadata": {},
   "source": [
    "The table presents two columns, each containing a list of strings that represent different aviation-related phrases. The first column, titled \"As Zero,\" includes phrases such as \"Field elevation one six zero,\" \"Heading three zero zero,\" and \"One zero thousand five hundred.\" These phrases are typically used in aviation to communicate specific numerical values related to field elevation, heading, and altitude, with a focus on the use of zeros in the numbers. The second column, titled \"As Group,\" features phrases like \"Western five thirty,\" \"EMAIR One Ten,\" and \"Ten thousand five hundred.\" These phrases also convey numerical information but are expressed in a manner that groups numbers together, such as in flight numbers or altitudes, without emphasizing individual zeros. The content of these columns highlights the different ways numerical information can be communicated in aviation contexts, either by emphasizing each digit or by grouping numbers together for clarity and brevity."
   ]
  },
  {
   "cell_type": "markdown",
   "metadata": {},
   "source": [
    "## All Extracted Table Text"
   ]
  },
  {
   "cell_type": "code",
   "execution_count": 7,
   "metadata": {},
   "outputs": [],
   "source": [
    "prompts = generate_prompts_from_text_list(\n",
    "    texts=df_tables[\"extracted_table_text\"].to_list(),\n",
    "    template_path=\"../prompts/\",\n",
    "    prompt_file_name=\"table_to_text_prompt.jinja2\",\n",
    ")"
   ]
  },
  {
   "cell_type": "markdown",
   "metadata": {},
   "source": [
    "### Input Token Cost"
   ]
  },
  {
   "cell_type": "code",
   "execution_count": 8,
   "metadata": {},
   "outputs": [
    {
     "name": "stdout",
     "output_type": "stream",
     "text": [
      "The cost for 22572 input tokens is about $0.06.\n",
      "The batch cost for 22572 input tokens is about $0.03.\n"
     ]
    }
   ],
   "source": [
    "prompt_tokens = []\n",
    "for prompt in prompts:\n",
    "    num_tokens = get_num_tokens_from_string(prompt, encoding_name=\"gpt-4o\")\n",
    "    prompt_tokens.append(num_tokens)\n",
    "total_prompt_tokens = sum(prompt_tokens)\n",
    "\n",
    "total_input_token_cost = calculate_token_pricing(total_prompt_tokens, GPT_4O_2024_08_06_PRICE_PER_MILLION_INPUT_TOKENS)\n",
    "print(f\"The cost for {total_prompt_tokens} input tokens is about ${total_input_token_cost}.\")\n",
    "\n",
    "total_input_token_batch_cost = calculate_token_pricing(\n",
    "    total_prompt_tokens, GPT_4O_2024_08_06_BATCH_PRICE_PER_MILLION_INPUT_TOKENS\n",
    ")\n",
    "print(f\"The batch cost for {total_prompt_tokens} input tokens is about ${total_input_token_batch_cost}.\")"
   ]
  },
  {
   "cell_type": "markdown",
   "metadata": {},
   "source": [
    "### Output Token Cost"
   ]
  },
  {
   "cell_type": "code",
   "execution_count": 9,
   "metadata": {},
   "outputs": [
    {
     "name": "stdout",
     "output_type": "stream",
     "text": [
      "The cost for 98000 output tokens is about $0.98.\n",
      "The batch cost for 98000 output tokens is about $0.49.\n"
     ]
    }
   ],
   "source": [
    "output = \"\"\"The table presents two columns, each containing a list of strings that represent different aviation-related phrases. The first column, titled \"As Zero,\" includes phrases such as \"Field elevation one six zero,\" \"Heading three zero zero,\" and \"One zero thousand five hundred.\" These phrases are typically used in aviation to communicate specific numerical values related to field elevation, heading, and altitude, with a focus on the use of zeros in the numbers. The second column, titled \"As Group,\" features phrases like \"Western five thirty,\" \"EMAIR One Ten,\" and \"Ten thousand five hundred.\" These phrases also convey numerical information but are expressed in a manner that groups numbers together, such as in flight numbers or altitudes, without emphasizing individual zeros. The content of these columns highlights the different ways numerical information can be communicated in aviation contexts, either by emphasizing each digit or by grouping numbers together for clarity and brevity.\"\"\"\n",
    "output_tokens = get_num_tokens_from_string(output, encoding_name=\"gpt-4o\")\n",
    "total_output_tokens_estimate = len(prompts) * 1000 # Multiplying by 1000 for max_tokens\n",
    "\n",
    "total_output_token_estimate_cost = calculate_token_pricing(\n",
    "    total_output_tokens_estimate, GPT_4O_2024_08_06_PRICE_PER_MILLION_OUTPUT_TOKENS\n",
    ")\n",
    "print(f\"The cost for {total_output_tokens_estimate} output tokens is about ${total_output_token_estimate_cost}.\")\n",
    "\n",
    "total_output_token_batch_estimate_cost = calculate_token_pricing(\n",
    "    total_output_tokens_estimate, GPT_4O_2024_08_06_BATCH_PRICE_PER_MILLION_OUTPUT_TOKENS\n",
    ")\n",
    "print(\n",
    "    f\"The batch cost for {total_output_tokens_estimate} output tokens is about ${total_output_token_batch_estimate_cost}.\"\n",
    ")"
   ]
  },
  {
   "cell_type": "markdown",
   "metadata": {},
   "source": [
    "### Estimated Total Cost"
   ]
  },
  {
   "cell_type": "code",
   "execution_count": 10,
   "metadata": {},
   "outputs": [
    {
     "name": "stdout",
     "output_type": "stream",
     "text": [
      "Total: $1.04\n",
      "Batch Total: $0.52\n"
     ]
    }
   ],
   "source": [
    "print(f\"Total: ${total_input_token_cost + total_output_token_estimate_cost}\")\n",
    "print(f\"Batch Total: ${total_input_token_batch_cost + total_output_token_batch_estimate_cost}\")"
   ]
  },
  {
   "cell_type": "markdown",
   "metadata": {},
   "source": [
    "### OpenAI Batch"
   ]
  },
  {
   "cell_type": "code",
   "execution_count": null,
   "metadata": {},
   "outputs": [],
   "source": [
    "write_requests_to_jsonl(prompts=prompts, base_output_path=\"../data/batch_table_to_text\", batch_request_file=\"tables_to_text\")"
   ]
  },
  {
   "cell_type": "code",
   "execution_count": null,
   "metadata": {},
   "outputs": [],
   "source": [
    "# create_openai_batch_process(\n",
    "#     api_key=os.environ.get(\"OPENAI_API_KEY\"), \n",
    "#     batch_request_file=\"../data/batch_table_to_text/tables_to_text_1.jsonl\", \n",
    "#     batch_response_file=\"../data/batch_table_to_text/batch_response_tables_to_text_1.json\", \n",
    "#     description=\"tables to text 1\"\n",
    "#     )"
   ]
  },
  {
   "cell_type": "code",
   "execution_count": null,
   "metadata": {},
   "outputs": [],
   "source": [
    "check_openai_batch_status(\n",
    "    api_key=os.environ.get(\"OPENAI_API_KEY\"), \n",
    "    batch_response_file=\"../data/batch_table_to_text/batch_response_tables_to_text_1.json\", \n",
    "    output_file=\"../data/batch_table_to_text/batch_output_tables_to_text_1.jsonl\"\n",
    "    )"
   ]
  },
  {
   "cell_type": "code",
   "execution_count": 11,
   "metadata": {},
   "outputs": [
    {
     "name": "stdout",
     "output_type": "stream",
     "text": [
      "Actual Batch Total: $0.16\n"
     ]
    }
   ],
   "source": [
    "print(\"Actual Batch Total: $0.16\")"
   ]
  },
  {
   "cell_type": "markdown",
   "metadata": {},
   "source": [
    "### Output"
   ]
  },
  {
   "cell_type": "code",
   "execution_count": 12,
   "metadata": {},
   "outputs": [
    {
     "data": {
      "text/html": [
       "<div><style>\n",
       ".dataframe > thead > tr,\n",
       ".dataframe > tbody > tr {\n",
       "  text-align: right;\n",
       "  white-space: pre-wrap;\n",
       "}\n",
       "</style>\n",
       "<small>shape: (5, 3)</small><table border=\"1\" class=\"dataframe\"><thead><tr><th>id</th><th>custom_id</th><th>content</th></tr><tr><td>str</td><td>str</td><td>str</td></tr></thead><tbody><tr><td>&quot;batch_req_GAq5cBQ1HT6AZ1Sd24cZVKjj&quot;</td><td>&quot;prompt_0&quot;</td><td>&quot;The table consists of four columns, each with a distinct heading, although one of the columns lacks a defined name. The first column is labeled &quot;CHANGE\\nTO\\nBASIC&quot; and contains a series of entries, most of which are either `None` or empty strings, indicating a lack of data or changes in this category. The second column, titled &quot;SUPPLEMENTS,&quot; is filled entirely with empty strings, suggesting that no supplementary information is provided for any of the entries. The third column is unnamed, represented by a `None` key, and similarly contains only empty strings, further emphasizing the absence of data or additional details. The final column, &quot;OPTIONAL,&quot; mirrors the pattern seen in the &quot;CHANGE\\nTO\\nBASIC&quot; column, with entries predominantly consisting of `None` or empty strings, indicating that optional information is either not applicable or not provided. Overall, the table appears to be largely devoid of substantive content across all columns, with the majority of entries being empty or undefined.&quot;</td></tr><tr><td>&quot;batch_req_v7VjF65zNYLlbJJT5l453Wm1&quot;</td><td>&quot;prompt_1&quot;</td><td>&quot;The table presents a structured overview of a series of documents and their respective timelines for completion and publication. It begins with a column labeled &quot;Basic or Change,&quot; which lists a sequence of documents starting with &quot;JO 7110.65AA,&quot; followed by three subsequent changes labeled &quot;Change 1,&quot; &quot;Change 2,&quot; and &quot;Change 3.&quot; This pattern repeats for another document, &quot;JO 7110.65BB,&quot; which is also followed by three changes. The next column, &quot;Cutoff Date for Completion,&quot; provides specific dates by which each document or change must be completed. These dates range from November 3, 2022, for the initial document, to January 22, 2026, for the last change listed. The final column, &quot;Effective Date of Publication,&quot; indicates when each document or change is officially published. The publication dates start on April 20, 2023, and extend to July 9, 2026. This structured format allows for a clear understanding of the timeline and progression of each document and its changes, highlighting the relationship between the completion and publication dates.&quot;</td></tr><tr><td>&quot;batch_req_LcWzRXniPYQURjF1o3JRJYkr&quot;</td><td>&quot;prompt_2&quot;</td><td>&quot;The table presents information about various military headquarters, their DSN numbers, and corresponding commercial contact numbers. The first column lists the military headquarters, starting with the U.S. Army, specifically the USAASA, followed by the U.S. Air Force, identified as HQ AFFSA, and finally the U.S. Navy, noted as CNO (N980A). The second column provides the DSN numbers for each of these headquarters, with the U.S. Army having the DSN number 656−4868, the U.S. Air Force listed with 884-5509, and the U.S. Navy with 224−2638. The third column details the commercial phone numbers associated with each headquarters, where the U.S. Army can be reached at (703) 806−4868, the U.S. Air Force at (405) 734-5509, and the U.S. Navy at (703) 614−2638. This structured information allows for easy reference to contact details for these military entities.&quot;</td></tr><tr><td>&quot;batch_req_DWfWSkuqNq6Ys1jqS8ciUoc5&quot;</td><td>&quot;prompt_3&quot;</td><td>&quot;The table contains information about three branches of the United States military, specifically the U.S. Navy, U.S. Air Force, and U.S. Army, along with their respective addresses. The U.S. Navy&#x27;s address is listed as the Department of the Navy, Chief of Naval Operations, N980A, NAATSEA, located at 2000 Navy Pentagon (5D453) in Washington, D.C., with the postal code 20350−2000. The U.S. Air Force&#x27;s address is given as HQ AFFSA, situated at 5316 S. Douglas Blvd, Bldg 8400, Room 232, in Oklahoma City, OK, with the postal code 73150. Lastly, the U.S. Army&#x27;s address is noted as the Director, USAASA (MOAS−AS), at 9325 Gunston Road, Suite N319, in Ft. Belvoir, VA, with the postal code 22060−5582. Each address provides a detailed location for the respective branch&#x27;s headquarters or main office, indicating specific departments or offices within larger complexes.&quot;</td></tr><tr><td>&quot;batch_req_bIvlPpHSFNX1puN5wDUnOx1O&quot;</td><td>&quot;prompt_4&quot;</td><td>&quot;The table presents a collection of abbreviations alongside their corresponding meanings, offering a glimpse into various aviation and aeronautical terminologies. The abbreviation &quot;AAR&quot; is associated with two different meanings: &quot;Adapted arrival route&quot; and &quot;Airport arrival rate,&quot; indicating its use in different contexts. &quot;AC&quot; stands for &quot;Advisory Circular,&quot; while &quot;ACC&quot; refers to &quot;Area Control Center,&quot; both of which are crucial in aviation operations. The abbreviation &quot;ACE−IDS&quot; is expanded to &quot;ASOS Controller Equipment− Information Display System,&quot; highlighting its role in information management. &quot;ACL&quot; is short for &quot;Aircraft list,&quot; and &quot;ACLS&quot; denotes the &quot;Automatic Carrier Landing System,&quot; both essential for aircraft operations. &quot;ADAR&quot; is an abbreviation for &quot;Adapted departure arrival route,&quot; and &quot;ADC&quot; stands for &quot;Aerospace Defense Command,&quot; reflecting their specific functions in aviation. The term &quot;ADIZ&quot; is pronounced as &quot;AY DIZ&quot; and refers to the &quot;Air Defense Identification Zone,&quot; a critical area for national security. &quot;ADR&quot; is the &quot;Adapted departure route,&quot; while &quot;ADS&quot; stands for &quot;Automatic Dependent Surveillance,&quot; a key component in modern air traffic management. The abbreviations &quot;ADS−B&quot; and &quot;ADS−C&quot; represent &quot;Automatic Dependent Surveillance−Broadcast&quot; and &quot;Automatic Dependent Surveillance−Contract,&quot; respectively, both of which are advancements in surveillance technology. &quot;AFP&quot; is the &quot;Airspace Flow Program,&quot; and &quot;AIDC&quot; stands for &quot;ATS Interfacility Data Communications,&quot; both of which facilitate efficient airspace management. &quot;AIM&quot; refers to the &quot;Aeronautical Information Manual,&quot; a vital resource for pilots and aviation professionals. &quot;AIRMET&quot; is an abbreviation for &quot;Airmen’s meteorological information,&quot; providing essential weather updates. &quot;ALDARS&quot; stands for the &quot;Automated Lightning Detection and Reporting System,&quot; crucial for weather monitoring. &quot;ALERFA&quot; is the &quot;Alert phase code (Alerting Service),&quot; and &quot;ALNOT&quot; is an &quot;Alert notice,&quot; both important for emergency response. &quot;ALS&quot; refers to the &quot;Approach Light System,&quot; aiding in aircraft landing. &quot;ALTRV&quot; stands for &quot;Altitude reservation,&quot; a term used in air traffic control. The abbreviation &quot;AM&quot; has a complex meaning related to ambiguity in target positioning, specifically &quot;Ambiguity−A disparity greater than a locally adapted distance exists between the position declared for a target by MEARTS and another facility’s computer declared position during interfacility handoff.&quot; &quot;AMASS&quot; is the &quot;Airport Movement Area Safety System,&quot; enhancing airport safety. Another instance of &quot;AMB&quot; refers to a similar ambiguity issue, this time involving &quot;STARS&quot; instead of &quot;MEARTS.&quot; &quot;AMVER&quot; stands for the &quot;Automated Mutual Assistance Vessel Rescue System,&quot; a maritime safety initiative. &quot;ANG&quot; is the &quot;Air National Guard,&quot; a military reserve force. Lastly, &quot;APR&quot; is the &quot;ATC preferred route,&quot; indicating a route preferred by air traffic control for efficiency.&quot;</td></tr></tbody></table></div>"
      ],
      "text/plain": [
       "shape: (5, 3)\n",
       "┌────────────────────────────────────┬───────────┬─────────────────────────────────────────────────┐\n",
       "│ id                                 ┆ custom_id ┆ content                                         │\n",
       "│ ---                                ┆ ---       ┆ ---                                             │\n",
       "│ str                                ┆ str       ┆ str                                             │\n",
       "╞════════════════════════════════════╪═══════════╪═════════════════════════════════════════════════╡\n",
       "│ batch_req_GAq5cBQ1HT6AZ1Sd24cZVKjj ┆ prompt_0  ┆ The table consists of four columns, each with a │\n",
       "│                                    ┆           ┆ distinct heading, although one of the columns   │\n",
       "│                                    ┆           ┆ lacks a defined name. The first column is       │\n",
       "│                                    ┆           ┆ labeled \"CHANGE\\nTO\\nBASIC\" and contains a      │\n",
       "│                                    ┆           ┆ series of entries, most of which are either     │\n",
       "│                                    ┆           ┆ `None` or empty strings, indicating a lack of   │\n",
       "│                                    ┆           ┆ data or changes in this category. The second    │\n",
       "│                                    ┆           ┆ column, titled \"SUPPLEMENTS,\" is filled         │\n",
       "│                                    ┆           ┆ entirely with empty strings, suggesting that no │\n",
       "│                                    ┆           ┆ supplementary information is provided for any   │\n",
       "│                                    ┆           ┆ of the entries. The third column is unnamed,    │\n",
       "│                                    ┆           ┆ represented by a `None` key, and similarly      │\n",
       "│                                    ┆           ┆ contains only empty strings, further            │\n",
       "│                                    ┆           ┆ emphasizing the absence of data or additional   │\n",
       "│                                    ┆           ┆ details. The final column, \"OPTIONAL,\" mirrors  │\n",
       "│                                    ┆           ┆ the pattern seen in the \"CHANGE\\nTO\\nBASIC\"     │\n",
       "│                                    ┆           ┆ column, with entries predominantly consisting   │\n",
       "│                                    ┆           ┆ of `None` or empty strings, indicating that     │\n",
       "│                                    ┆           ┆ optional information is either not applicable   │\n",
       "│                                    ┆           ┆ or not provided. Overall, the table appears to  │\n",
       "│                                    ┆           ┆ be largely devoid of substantive content across │\n",
       "│                                    ┆           ┆ all columns, with the majority of entries being │\n",
       "│                                    ┆           ┆ empty or undefined.                             │\n",
       "│ batch_req_v7VjF65zNYLlbJJT5l453Wm1 ┆ prompt_1  ┆ The table presents a structured overview of a   │\n",
       "│                                    ┆           ┆ series of documents and their respective        │\n",
       "│                                    ┆           ┆ timelines for completion and publication. It    │\n",
       "│                                    ┆           ┆ begins with a column labeled \"Basic or Change,\" │\n",
       "│                                    ┆           ┆ which lists a sequence of documents starting    │\n",
       "│                                    ┆           ┆ with \"JO 7110.65AA,\" followed by three          │\n",
       "│                                    ┆           ┆ subsequent changes labeled \"Change 1,\" \"Change  │\n",
       "│                                    ┆           ┆ 2,\" and \"Change 3.\" This pattern repeats for    │\n",
       "│                                    ┆           ┆ another document, \"JO 7110.65BB,\" which is also │\n",
       "│                                    ┆           ┆ followed by three changes. The next column,     │\n",
       "│                                    ┆           ┆ \"Cutoff Date for Completion,\" provides specific │\n",
       "│                                    ┆           ┆ dates by which each document or change must be  │\n",
       "│                                    ┆           ┆ completed. These dates range from November 3,   │\n",
       "│                                    ┆           ┆ 2022, for the initial document, to January 22,  │\n",
       "│                                    ┆           ┆ 2026, for the last change listed. The final     │\n",
       "│                                    ┆           ┆ column, \"Effective Date of Publication,\"        │\n",
       "│                                    ┆           ┆ indicates when each document or change is       │\n",
       "│                                    ┆           ┆ officially published. The publication dates     │\n",
       "│                                    ┆           ┆ start on April 20, 2023, and extend to July 9,  │\n",
       "│                                    ┆           ┆ 2026. This structured format allows for a clear │\n",
       "│                                    ┆           ┆ understanding of the timeline and progression   │\n",
       "│                                    ┆           ┆ of each document and its changes, highlighting  │\n",
       "│                                    ┆           ┆ the relationship between the completion and     │\n",
       "│                                    ┆           ┆ publication dates.                              │\n",
       "│ batch_req_LcWzRXniPYQURjF1o3JRJYkr ┆ prompt_2  ┆ The table presents information about various    │\n",
       "│                                    ┆           ┆ military headquarters, their DSN numbers, and   │\n",
       "│                                    ┆           ┆ corresponding commercial contact numbers. The   │\n",
       "│                                    ┆           ┆ first column lists the military headquarters,   │\n",
       "│                                    ┆           ┆ starting with the U.S. Army, specifically the   │\n",
       "│                                    ┆           ┆ USAASA, followed by the U.S. Air Force,         │\n",
       "│                                    ┆           ┆ identified as HQ AFFSA, and finally the U.S.    │\n",
       "│                                    ┆           ┆ Navy, noted as CNO (N980A). The second column   │\n",
       "│                                    ┆           ┆ provides the DSN numbers for each of these      │\n",
       "│                                    ┆           ┆ headquarters, with the U.S. Army having the DSN │\n",
       "│                                    ┆           ┆ number 656−4868, the U.S. Air Force listed with │\n",
       "│                                    ┆           ┆ 884-5509, and the U.S. Navy with 224−2638. The  │\n",
       "│                                    ┆           ┆ third column details the commercial phone       │\n",
       "│                                    ┆           ┆ numbers associated with each headquarters,      │\n",
       "│                                    ┆           ┆ where the U.S. Army can be reached at (703)     │\n",
       "│                                    ┆           ┆ 806−4868, the U.S. Air Force at (405) 734-5509, │\n",
       "│                                    ┆           ┆ and the U.S. Navy at (703) 614−2638. This       │\n",
       "│                                    ┆           ┆ structured information allows for easy          │\n",
       "│                                    ┆           ┆ reference to contact details for these military │\n",
       "│                                    ┆           ┆ entities.                                       │\n",
       "│ batch_req_DWfWSkuqNq6Ys1jqS8ciUoc5 ┆ prompt_3  ┆ The table contains information about three      │\n",
       "│                                    ┆           ┆ branches of the United States military,         │\n",
       "│                                    ┆           ┆ specifically the U.S. Navy, U.S. Air Force, and │\n",
       "│                                    ┆           ┆ U.S. Army, along with their respective          │\n",
       "│                                    ┆           ┆ addresses. The U.S. Navy's address is listed as │\n",
       "│                                    ┆           ┆ the Department of the Navy, Chief of Naval      │\n",
       "│                                    ┆           ┆ Operations, N980A, NAATSEA, located at 2000     │\n",
       "│                                    ┆           ┆ Navy Pentagon (5D453) in Washington, D.C., with │\n",
       "│                                    ┆           ┆ the postal code 20350−2000. The U.S. Air        │\n",
       "│                                    ┆           ┆ Force's address is given as HQ AFFSA, situated  │\n",
       "│                                    ┆           ┆ at 5316 S. Douglas Blvd, Bldg 8400, Room 232,   │\n",
       "│                                    ┆           ┆ in Oklahoma City, OK, with the postal code      │\n",
       "│                                    ┆           ┆ 73150. Lastly, the U.S. Army's address is noted │\n",
       "│                                    ┆           ┆ as the Director, USAASA (MOAS−AS), at 9325      │\n",
       "│                                    ┆           ┆ Gunston Road, Suite N319, in Ft. Belvoir, VA,   │\n",
       "│                                    ┆           ┆ with the postal code 22060−5582. Each address   │\n",
       "│                                    ┆           ┆ provides a detailed location for the respective │\n",
       "│                                    ┆           ┆ branch's headquarters or main office,           │\n",
       "│                                    ┆           ┆ indicating specific departments or offices      │\n",
       "│                                    ┆           ┆ within larger complexes.                        │\n",
       "│ batch_req_bIvlPpHSFNX1puN5wDUnOx1O ┆ prompt_4  ┆ The table presents a collection of              │\n",
       "│                                    ┆           ┆ abbreviations alongside their corresponding     │\n",
       "│                                    ┆           ┆ meanings, offering a glimpse into various       │\n",
       "│                                    ┆           ┆ aviation and aeronautical terminologies. The    │\n",
       "│                                    ┆           ┆ abbreviation \"AAR\" is associated with two       │\n",
       "│                                    ┆           ┆ different meanings: \"Adapted arrival route\" and │\n",
       "│                                    ┆           ┆ \"Airport arrival rate,\" indicating its use in   │\n",
       "│                                    ┆           ┆ different contexts. \"AC\" stands for \"Advisory   │\n",
       "│                                    ┆           ┆ Circular,\" while \"ACC\" refers to \"Area Control  │\n",
       "│                                    ┆           ┆ Center,\" both of which are crucial in aviation  │\n",
       "│                                    ┆           ┆ operations. The abbreviation \"ACE−IDS\" is       │\n",
       "│                                    ┆           ┆ expanded to \"ASOS Controller Equipment−         │\n",
       "│                                    ┆           ┆ Information Display System,\" highlighting its   │\n",
       "│                                    ┆           ┆ role in information management. \"ACL\" is short  │\n",
       "│                                    ┆           ┆ for \"Aircraft list,\" and \"ACLS\" denotes the     │\n",
       "│                                    ┆           ┆ \"Automatic Carrier Landing System,\" both        │\n",
       "│                                    ┆           ┆ essential for aircraft operations. \"ADAR\" is an │\n",
       "│                                    ┆           ┆ abbreviation for \"Adapted departure arrival     │\n",
       "│                                    ┆           ┆ route,\" and \"ADC\" stands for \"Aerospace Defense │\n",
       "│                                    ┆           ┆ Command,\" reflecting their specific functions   │\n",
       "│                                    ┆           ┆ in aviation. The term \"ADIZ\" is pronounced as   │\n",
       "│                                    ┆           ┆ \"AY DIZ\" and refers to the \"Air Defense         │\n",
       "│                                    ┆           ┆ Identification Zone,\" a critical area for       │\n",
       "│                                    ┆           ┆ national security. \"ADR\" is the \"Adapted        │\n",
       "│                                    ┆           ┆ departure route,\" while \"ADS\" stands for        │\n",
       "│                                    ┆           ┆ \"Automatic Dependent Surveillance,\" a key       │\n",
       "│                                    ┆           ┆ component in modern air traffic management. The │\n",
       "│                                    ┆           ┆ abbreviations \"ADS−B\" and \"ADS−C\" represent     │\n",
       "│                                    ┆           ┆ \"Automatic Dependent Surveillance−Broadcast\"    │\n",
       "│                                    ┆           ┆ and \"Automatic Dependent                        │\n",
       "│                                    ┆           ┆ Surveillance−Contract,\" respectively, both of   │\n",
       "│                                    ┆           ┆ which are advancements in surveillance          │\n",
       "│                                    ┆           ┆ technology. \"AFP\" is the \"Airspace Flow         │\n",
       "│                                    ┆           ┆ Program,\" and \"AIDC\" stands for \"ATS            │\n",
       "│                                    ┆           ┆ Interfacility Data Communications,\" both of     │\n",
       "│                                    ┆           ┆ which facilitate efficient airspace management. │\n",
       "│                                    ┆           ┆ \"AIM\" refers to the \"Aeronautical Information   │\n",
       "│                                    ┆           ┆ Manual,\" a vital resource for pilots and        │\n",
       "│                                    ┆           ┆ aviation professionals. \"AIRMET\" is an          │\n",
       "│                                    ┆           ┆ abbreviation for \"Airmen’s meteorological       │\n",
       "│                                    ┆           ┆ information,\" providing essential weather       │\n",
       "│                                    ┆           ┆ updates. \"ALDARS\" stands for the \"Automated     │\n",
       "│                                    ┆           ┆ Lightning Detection and Reporting System,\"      │\n",
       "│                                    ┆           ┆ crucial for weather monitoring. \"ALERFA\" is the │\n",
       "│                                    ┆           ┆ \"Alert phase code (Alerting Service),\" and      │\n",
       "│                                    ┆           ┆ \"ALNOT\" is an \"Alert notice,\" both important    │\n",
       "│                                    ┆           ┆ for emergency response. \"ALS\" refers to the     │\n",
       "│                                    ┆           ┆ \"Approach Light System,\" aiding in aircraft     │\n",
       "│                                    ┆           ┆ landing. \"ALTRV\" stands for \"Altitude           │\n",
       "│                                    ┆           ┆ reservation,\" a term used in air traffic        │\n",
       "│                                    ┆           ┆ control. The abbreviation \"AM\" has a complex    │\n",
       "│                                    ┆           ┆ meaning related to ambiguity in target          │\n",
       "│                                    ┆           ┆ positioning, specifically \"Ambiguity−A          │\n",
       "│                                    ┆           ┆ disparity greater than a locally adapted        │\n",
       "│                                    ┆           ┆ distance exists between the position declared   │\n",
       "│                                    ┆           ┆ for a target by MEARTS and another facility’s   │\n",
       "│                                    ┆           ┆ computer declared position during interfacility │\n",
       "│                                    ┆           ┆ handoff.\" \"AMASS\" is the \"Airport Movement Area │\n",
       "│                                    ┆           ┆ Safety System,\" enhancing airport safety.       │\n",
       "│                                    ┆           ┆ Another instance of \"AMB\" refers to a similar   │\n",
       "│                                    ┆           ┆ ambiguity issue, this time involving \"STARS\"    │\n",
       "│                                    ┆           ┆ instead of \"MEARTS.\" \"AMVER\" stands for the     │\n",
       "│                                    ┆           ┆ \"Automated Mutual Assistance Vessel Rescue      │\n",
       "│                                    ┆           ┆ System,\" a maritime safety initiative. \"ANG\" is │\n",
       "│                                    ┆           ┆ the \"Air National Guard,\" a military reserve    │\n",
       "│                                    ┆           ┆ force. Lastly, \"APR\" is the \"ATC preferred      │\n",
       "│                                    ┆           ┆ route,\" indicating a route preferred by air     │\n",
       "│                                    ┆           ┆ traffic control for efficiency.                 │\n",
       "└────────────────────────────────────┴───────────┴─────────────────────────────────────────────────┘"
      ]
     },
     "execution_count": 12,
     "metadata": {},
     "output_type": "execute_result"
    }
   ],
   "source": [
    "df_tables = read_batch_output_jsonl_to_polars(\"../data/batch_table_to_text/batch_output_tables_to_text_1.jsonl\")\n",
    "df_tables.head()"
   ]
  }
 ],
 "metadata": {
  "kernelspec": {
   "display_name": "Python 3",
   "language": "python",
   "name": "python3"
  },
  "language_info": {
   "codemirror_mode": {
    "name": "ipython",
    "version": 3
   },
   "file_extension": ".py",
   "mimetype": "text/x-python",
   "name": "python",
   "nbconvert_exporter": "python",
   "pygments_lexer": "ipython3",
   "version": "3.10.12"
  }
 },
 "nbformat": 4,
 "nbformat_minor": 2
}
