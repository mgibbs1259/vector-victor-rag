{
 "cells": [
  {
   "cell_type": "code",
   "execution_count": 2,
   "metadata": {},
   "outputs": [
    {
     "data": {
      "text/plain": [
       "polars.config.Config"
      ]
     },
     "execution_count": 2,
     "metadata": {},
     "output_type": "execute_result"
    }
   ],
   "source": [
    "import os\n",
    "import sys\n",
    "import asyncio\n",
    "\n",
    "import polars as pl\n",
    "from jinja2 import Environment, FileSystemLoader\n",
    "from openai import AsyncOpenAI\n",
    "\n",
    "sys.path.append(os.path.abspath(os.path.join(\"..\")))\n",
    "from rag.openai_helpers import generate_prompts_from_text_list, get_num_tokens_from_string, calculate_token_pricing\n",
    "from rag.parse_pdfs import analyze_pdf_table_content\n",
    "\n",
    "pl.Config.set_fmt_str_lengths(5000)"
   ]
  },
  {
   "cell_type": "code",
   "execution_count": 3,
   "metadata": {},
   "outputs": [],
   "source": [
    "FILE_PATH = \"../data/2023-20-04_JO_7110.65AA.pdf\"\n",
    "GPT_4O_2024_08_06_PRICE_PER_MILLION_INPUT_TOKENS = 2.50\n",
    "GPT_4O_2024_08_06_PRICE_PER_MILLION_OUTPUT_TOKENS = 10.00"
   ]
  },
  {
   "cell_type": "code",
   "execution_count": 4,
   "metadata": {},
   "outputs": [],
   "source": [
    "client = AsyncOpenAI(api_key=os.environ.get(\"OPENAI_API_KEY\"))"
   ]
  },
  {
   "cell_type": "markdown",
   "metadata": {},
   "source": [
    "# Create Text Descriptions for Extracted Tables"
   ]
  },
  {
   "cell_type": "code",
   "execution_count": 5,
   "metadata": {},
   "outputs": [
    {
     "name": "stdout",
     "output_type": "stream",
     "text": [
      "98\n"
     ]
    },
    {
     "data": {
      "text/html": [
       "<div><style>\n",
       ".dataframe > thead > tr,\n",
       ".dataframe > tbody > tr {\n",
       "  text-align: right;\n",
       "  white-space: pre-wrap;\n",
       "}\n",
       "</style>\n",
       "<small>shape: (5, 4)</small><table border=\"1\" class=\"dataframe\"><thead><tr><th>page_number</th><th>contains_tables</th><th>table_number</th><th>extracted_table_text</th></tr><tr><td>i64</td><td>i64</td><td>i64</td><td>str</td></tr></thead><tbody><tr><td>2</td><td>1</td><td>1</td><td>&quot;{&#x27;CHANGE\\nTO\\nBASIC&#x27;: [None, None, &#x27;&#x27;, &#x27;&#x27;, &#x27;&#x27;, &#x27;&#x27;, &#x27;&#x27;, &#x27;&#x27;, &#x27;&#x27;, &#x27;&#x27;, &#x27;&#x27;, &#x27;&#x27;, &#x27;&#x27;, &#x27;&#x27;, &#x27;&#x27;, &#x27;&#x27;, &#x27;&#x27;, &#x27;&#x27;, &#x27;&#x27;, &#x27;&#x27;, &#x27;&#x27;, &#x27;&#x27;, &#x27;&#x27;, &#x27;&#x27;, &#x27;&#x27;, &#x27;&#x27;, &#x27;&#x27;, &#x27;&#x27;, &#x27;&#x27;, &#x27;&#x27;, &#x27;&#x27;, &#x27;&#x27;, &#x27;&#x27;, &#x27;&#x27;, &#x27;&#x27;, &#x27;&#x27;, &#x27;&#x27;, &#x27;&#x27;, &#x27;&#x27;, &#x27;&#x27;, &#x27;&#x27;, &#x27;&#x27;, &#x27;&#x27;, &#x27;&#x27;, &#x27;&#x27;, &#x27;&#x27;, &#x27;&#x27;, &#x27;&#x27;, &#x27;&#x27;, &#x27;&#x27;, &#x27;&#x27;, &#x27;&#x27;, &#x27;&#x27;, &#x27;&#x27;, &#x27;&#x27;, &#x27;&#x27;, &#x27;&#x27;, &#x27;&#x27;, &#x27;&#x27;, &#x27;&#x27;, &#x27;&#x27;, &#x27;&#x27;, &#x27;&#x27;, &#x27;&#x27;, &#x27;&#x27;, &#x27;&#x27;, &#x27;&#x27;, &#x27;&#x27;, &#x27;&#x27;, &#x27;&#x27;], &#x27;SUPPLEMENTS&#x27;: [&#x27;&#x27;, &#x27;&#x27;, &#x27;&#x27;, &#x27;&#x27;, &#x27;&#x27;, &#x27;&#x27;, &#x27;&#x27;, &#x27;&#x27;, &#x27;&#x27;, &#x27;&#x27;, &#x27;&#x27;, &#x27;&#x27;, &#x27;&#x27;, &#x27;&#x27;, &#x27;&#x27;, &#x27;&#x27;, &#x27;&#x27;, &#x27;&#x27;, &#x27;&#x27;, &#x27;&#x27;, &#x27;&#x27;, &#x27;&#x27;, &#x27;&#x27;, &#x27;&#x27;, &#x27;&#x27;, &#x27;&#x27;, &#x27;&#x27;, &#x27;&#x27;, &#x27;&#x27;, &#x27;&#x27;, &#x27;&#x27;, &#x27;&#x27;, &#x27;&#x27;, &#x27;&#x27;, &#x27;&#x27;, &#x27;&#x27;, &#x27;&#x27;, &#x27;&#x27;, &#x27;&#x27;, &#x27;&#x27;, &#x27;&#x27;, &#x27;&#x27;, &#x27;&#x27;, &#x27;&#x27;, &#x27;&#x27;, &#x27;&#x27;, &#x27;&#x27;, &#x27;&#x27;, &#x27;&#x27;, &#x27;&#x27;, &#x27;&#x27;, &#x27;&#x27;, &#x27;&#x27;, &#x27;&#x27;, &#x27;&#x27;, &#x27;&#x27;, &#x27;&#x27;, &#x27;&#x27;, &#x27;&#x27;, &#x27;&#x27;, &#x27;&#x27;, &#x27;&#x27;, &#x27;&#x27;, &#x27;&#x27;, &#x27;&#x27;, &#x27;&#x27;, &#x27;&#x27;, &#x27;&#x27;, &#x27;&#x27;, &#x27;&#x27;], None: [&#x27;&#x27;, &#x27;&#x27;, &#x27;&#x27;, &#x27;&#x27;, &#x27;&#x27;, &#x27;&#x27;, &#x27;&#x27;, &#x27;&#x27;, &#x27;&#x27;, &#x27;&#x27;, &#x27;&#x27;, &#x27;&#x27;, &#x27;&#x27;, &#x27;&#x27;, &#x27;&#x27;, &#x27;&#x27;, &#x27;&#x27;, &#x27;&#x27;, &#x27;&#x27;, &#x27;&#x27;, &#x27;&#x27;, &#x27;&#x27;, &#x27;&#x27;, &#x27;&#x27;, &#x27;&#x27;, &#x27;&#x27;, &#x27;&#x27;, &#x27;&#x27;, &#x27;&#x27;, &#x27;&#x27;, &#x27;&#x27;, &#x27;&#x27;, &#x27;&#x27;, &#x27;&#x27;, &#x27;&#x27;, &#x27;&#x27;, &#x27;&#x27;, &#x27;&#x27;, &#x27;&#x27;, &#x27;&#x27;, &#x27;&#x27;, &#x27;&#x27;, &#x27;&#x27;, &#x27;&#x27;, &#x27;&#x27;, &#x27;&#x27;, &#x27;&#x27;, &#x27;&#x27;, &#x27;&#x27;, &#x27;&#x27;, &#x27;&#x27;, &#x27;&#x27;, &#x27;&#x27;, &#x27;&#x27;, &#x27;&#x27;, &#x27;&#x27;, &#x27;&#x27;, &#x27;&#x27;, &#x27;&#x27;, &#x27;&#x27;, &#x27;&#x27;, &#x27;&#x27;, &#x27;&#x27;, &#x27;&#x27;, &#x27;&#x27;, &#x27;&#x27;, &#x27;&#x27;, &#x27;&#x27;, &#x27;&#x27;, &#x27;&#x27;, &#x27;&#x27;, &#x27;&#x27;, &#x27;&#x27;, &#x27;&#x27;, &#x27;&#x27;, &#x27;&#x27;, &#x27;&#x27;, &#x27;&#x27;, &#x27;&#x27;, &#x27;&#x27;, &#x27;&#x27;, &#x27;&#x27;, &#x27;&#x27;, &#x27;&#x27;, &#x27;&#x27;, &#x27;&#x27;, &#x27;&#x27;, &#x27;&#x27;, &#x27;&#x27;, &#x27;&#x27;, &#x27;&#x27;, &#x27;&#x27;, &#x27;&#x27;, &#x27;&#x27;, &#x27;&#x27;, &#x27;&#x27;, &#x27;&#x27;, &#x27;&#x27;, &#x27;&#x27;, &#x27;&#x27;, &#x27;&#x27;, &#x27;&#x27;, &#x27;&#x27;, &#x27;&#x27;, &#x27;&#x27;, &#x27;&#x27;, &#x27;&#x27;, &#x27;&#x27;, &#x27;&#x27;, &#x27;&#x27;, &#x27;&#x27;, &#x27;&#x27;, &#x27;&#x27;, &#x27;&#x27;, &#x27;&#x27;, &#x27;&#x27;, &#x27;&#x27;, &#x27;&#x27;, &#x27;&#x27;, &#x27;&#x27;, &#x27;&#x27;, &#x27;&#x27;, &#x27;&#x27;, &#x27;&#x27;, &#x27;&#x27;, &#x27;&#x27;, &#x27;&#x27;, &#x27;&#x27;, &#x27;&#x27;, &#x27;&#x27;, &#x27;&#x27;, &#x27;&#x27;, &#x27;&#x27;, &#x27;&#x27;, &#x27;&#x27;, &#x27;&#x27;, &#x27;&#x27;, &#x27;&#x27;, &#x27;&#x27;, &#x27;&#x27;], &#x27;OPTIONAL&#x27;: [None, None, &#x27;&#x27;, &#x27;&#x27;, &#x27;&#x27;, &#x27;&#x27;, &#x27;&#x27;, &#x27;&#x27;, &#x27;&#x27;, &#x27;&#x27;, &#x27;&#x27;, &#x27;&#x27;, &#x27;&#x27;, &#x27;&#x27;, &#x27;&#x27;, &#x27;&#x27;, &#x27;&#x27;, &#x27;&#x27;, &#x27;&#x27;, &#x27;&#x27;, &#x27;&#x27;, &#x27;&#x27;, &#x27;&#x27;, &#x27;&#x27;, &#x27;&#x27;, &#x27;&#x27;, &#x27;&#x27;, &#x27;&#x27;, &#x27;&#x27;, &#x27;&#x27;, &#x27;&#x27;, &#x27;&#x27;, &#x27;&#x27;, &#x27;&#x27;, &#x27;&#x27;, &#x27;&#x27;, &#x27;&#x27;, &#x27;&#x27;, &#x27;&#x27;, &#x27;&#x27;, &#x27;&#x27;, &#x27;&#x27;, &#x27;&#x27;, &#x27;&#x27;, &#x27;&#x27;, &#x27;&#x27;, &#x27;&#x27;, &#x27;&#x27;, &#x27;&#x27;, &#x27;&#x27;, &#x27;&#x27;, &#x27;&#x27;, &#x27;&#x27;, &#x27;&#x27;, &#x27;&#x27;, &#x27;&#x27;, &#x27;&#x27;, &#x27;&#x27;, &#x27;&#x27;, &#x27;&#x27;, &#x27;&#x27;, &#x27;&#x27;, &#x27;&#x27;, &#x27;&#x27;, &#x27;&#x27;, &#x27;&#x27;, &#x27;&#x27;, &#x27;&#x27;, &#x27;&#x27;, &#x27;&#x27;]}&quot;</td></tr><tr><td>25</td><td>1</td><td>1</td><td>&quot;{&#x27;Basic or\\nChange&#x27;: [&#x27;JO 7110.65AA&#x27;, &#x27;Change 1&#x27;, &#x27;Change 2&#x27;, &#x27;Change 3&#x27;, &#x27;JO 7110.65BB&#x27;, &#x27;Change 1&#x27;, &#x27;Change 2&#x27;, &#x27;Change 3&#x27;], &#x27;Cutoff Date for\\nCompletion&#x27;: [&#x27;11/3/22&#x27;, &#x27;4/20/23&#x27;, &#x27;10/5/23&#x27;, &#x27;3/21/24&#x27;, &#x27;9/5/24&#x27;, &#x27;2/20/25&#x27;, &#x27;8/7/25&#x27;, &#x27;1/22/26&#x27;], &#x27;Effective Date\\nof Publication&#x27;: [&#x27;4/20/23&#x27;, &#x27;10/5/23&#x27;, &#x27;3/21/24&#x27;, &#x27;9/5/24&#x27;, &#x27;2/20/25&#x27;, &#x27;8/7/25&#x27;, &#x27;1/22/26&#x27;, &#x27;7/9/26&#x27;]}&quot;</td></tr><tr><td>26</td><td>1</td><td>1</td><td>&quot;{&#x27;Military\\nHeadquarters&#x27;: [&#x27;U.S. Army\\nUSAASA&#x27;, &#x27;U.S. Air Force\\nHQ AFFSA&#x27;, &#x27;U.S. Navy\\nCNO (N980A)&#x27;], &#x27;DSN&#x27;: [&#x27;656−4868&#x27;, &#x27;884-5509&#x27;, &#x27;224−2638&#x27;], &#x27;Commercial&#x27;: [&#x27;(703) 806−4868&#x27;, &#x27;(405) 734-5509&#x27;, &#x27;(703) 614−2638&#x27;]}&quot;</td></tr><tr><td>27</td><td>1</td><td>1</td><td>&quot;{&#x27;Branch&#x27;: [&#x27;U.S. Navy&#x27;, &#x27;U.S. Air Force&#x27;, &#x27;U.S. Army&#x27;], &#x27;Address&#x27;: [&#x27;Department of the Navy\\nChief of Naval Operations\\nN980A, NAATSEA\\n2000 Navy Pentagon (5D453)\\nWashington, D.C. 20350−2000&#x27;, &#x27;HQ AFFSA\\n5316 S. Douglas Blvd\\nBldg 8400, Room 232\\nOklahoma City, OK 73150&#x27;, &#x27;Director\\nUSAASA (MOAS−AS)\\n9325 Gunston Road, Suite N319\\nFt. Belvoir, VA 22060−5582&#x27;]}&quot;</td></tr><tr><td>32</td><td>1</td><td>1</td><td>&quot;{&#x27;Abbreviation&#x27;: [&#x27;AAR .......&#x27;, &#x27;AAR .......&#x27;, &#x27;AC ........&#x27;, &#x27;ACC .......&#x27;, &#x27;ACE−IDS . . .&#x27;, &#x27;ACL .......&#x27;, &#x27;ACLS ......&#x27;, &#x27;ADAR .....&#x27;, &#x27;ADC .......&#x27;, &#x27;ADIZ ......&#x27;, &#x27;ADR .......&#x27;, &#x27;ADS .......&#x27;, &#x27;ADS−B .....&#x27;, &#x27;ADS−C .....&#x27;, &#x27;AFP .......&#x27;, &#x27;AIDC ......&#x27;, &#x27;AIM .......&#x27;, &#x27;AIRMET . . .&#x27;, &#x27;ALDARS . . .&#x27;, &#x27;ALERFA . . .&#x27;, &#x27;ALNOT ....&#x27;, &#x27;ALS .......&#x27;, &#x27;ALTRV .....&#x27;, &#x27;AM ........&#x27;, &#x27;AMASS ....&#x27;, &#x27;AMB ......&#x27;, &#x27;AMVER ....&#x27;, &#x27;ANG .......&#x27;, &#x27;APR .......&#x27;], &#x27;Meaning&#x27;: [&#x27;Adapted arrival route&#x27;, &#x27;Airport arrival rate&#x27;, &#x27;Advisory Circular&#x27;, &#x27;Area Control Center&#x27;, &#x27;ASOS Controller Equipment− Information\\nDisplay System&#x27;, &#x27;Aircraft list&#x27;, &#x27;Automatic Carrier Landing System&#x27;, &#x27;Adapted departure arrival route&#x27;, &#x27;Aerospace Defense Command&#x27;, &#x27;Air Defense Identification Zone (to be\\npronounced “AY DIZ”)&#x27;, &#x27;Adapted departure route&#x27;, &#x27;Automatic Dependent Surveillance&#x27;, &#x27;Automatic Dependent\\nSurveillance−Broadcast&#x27;, &#x27;Automatic Dependent\\nSurveillance−Contract&#x27;, &#x27;Airspace Flow Program&#x27;, &#x27;ATS Interfacility Data Communications&#x27;, &#x27;Aeronautical Information Manual&#x27;, &#x27;Airmen’s meteorological information&#x27;, &#x27;Automated Lightning Detection and\\nReporting System&#x27;, &#x27;Alert phase code (Alerting Service)&#x27;, &#x27;Alert notice&#x27;, &#x27;Approach Light System&#x27;, &#x27;Altitude reservation&#x27;, &#x27;Ambiguity−A disparity greater than a\\nlocally adapted distance exists between the\\nposition declared for a target by MEARTS\\nand another facility’s computer declared\\nposition during interfacility handoff&#x27;, &#x27;Airport Movement Area Safety System&#x27;, &#x27;Ambiguity−A disparity greater than a\\nlocally adapted distance exists between the\\nposition declared for a target by STARS\\nand another facility’s computer declared\\nposition during interfacility handoff&#x27;, &#x27;Automated Mutual Assistance Vessel\\nRescue System&#x27;, &#x27;Air National Guard&#x27;, &#x27;ATC preferred route&#x27;]}&quot;</td></tr></tbody></table></div>"
      ],
      "text/plain": [
       "shape: (5, 4)\n",
       "┌─────────────┬─────────────────┬──────────────┬───────────────────────────────────────────────────┐\n",
       "│ page_number ┆ contains_tables ┆ table_number ┆ extracted_table_text                              │\n",
       "│ ---         ┆ ---             ┆ ---          ┆ ---                                               │\n",
       "│ i64         ┆ i64             ┆ i64          ┆ str                                               │\n",
       "╞═════════════╪═════════════════╪══════════════╪═══════════════════════════════════════════════════╡\n",
       "│ 2           ┆ 1               ┆ 1            ┆ {'CHANGE\\nTO\\nBASIC': [None, None, '', '', '',    │\n",
       "│             ┆                 ┆              ┆ '', '', '', '', '', '', '', '', '', '', '', '',   │\n",
       "│             ┆                 ┆              ┆ '', '', '', '', '', '', '', '', '', '', '', '',   │\n",
       "│             ┆                 ┆              ┆ '', '', '', '', '', '', '', '', '', '', '', '',   │\n",
       "│             ┆                 ┆              ┆ '', '', '', '', '', '', '', '', '', '', '', '',   │\n",
       "│             ┆                 ┆              ┆ '', '', '', '', '', '', '', '', '', '', '', '',   │\n",
       "│             ┆                 ┆              ┆ '', '', '', '', ''], 'SUPPLEMENTS': ['', '', '',  │\n",
       "│             ┆                 ┆              ┆ '', '', '', '', '', '', '', '', '', '', '', '',   │\n",
       "│             ┆                 ┆              ┆ '', '', '', '', '', '', '', '', '', '', '', '',   │\n",
       "│             ┆                 ┆              ┆ '', '', '', '', '', '', '', '', '', '', '', '',   │\n",
       "│             ┆                 ┆              ┆ '', '', '', '', '', '', '', '', '', '', '', '',   │\n",
       "│             ┆                 ┆              ┆ '', '', '', '', '', '', '', '', '', '', '', '',   │\n",
       "│             ┆                 ┆              ┆ '', '', '', '', '', '', ''], None: ['', '', '',   │\n",
       "│             ┆                 ┆              ┆ '', '', '', '', '', '', '', '', '', '', '', '',   │\n",
       "│             ┆                 ┆              ┆ '', '', '', '', '', '', '', '', '', '', '', '',   │\n",
       "│             ┆                 ┆              ┆ '', '', '', '', '', '', '', '', '', '', '', '',   │\n",
       "│             ┆                 ┆              ┆ '', '', '', '', '', '', '', '', '', '', '', '',   │\n",
       "│             ┆                 ┆              ┆ '', '', '', '', '', '', '', '', '', '', '', '',   │\n",
       "│             ┆                 ┆              ┆ '', '', '', '', '', '', '', '', '', '', '', '',   │\n",
       "│             ┆                 ┆              ┆ '', '', '', '', '', '', '', '', '', '', '', '',   │\n",
       "│             ┆                 ┆              ┆ '', '', '', '', '', '', '', '', '', '', '', '',   │\n",
       "│             ┆                 ┆              ┆ '', '', '', '', '', '', '', '', '', '', '', '',   │\n",
       "│             ┆                 ┆              ┆ '', '', '', '', '', '', '', '', '', '', '', '',   │\n",
       "│             ┆                 ┆              ┆ '', '', '', '', '', '', '', '', '', '', '', '',   │\n",
       "│             ┆                 ┆              ┆ '', '', '', '', ''], 'OPTIONAL': [None, None, '', │\n",
       "│             ┆                 ┆              ┆ '', '', '', '', '', '', '', '', '', '', '', '',   │\n",
       "│             ┆                 ┆              ┆ '', '', '', '', '', '', '', '', '', '', '', '',   │\n",
       "│             ┆                 ┆              ┆ '', '', '', '', '', '', '', '', '', '', '', '',   │\n",
       "│             ┆                 ┆              ┆ '', '', '', '', '', '', '', '', '', '', '', '',   │\n",
       "│             ┆                 ┆              ┆ '', '', '', '', '', '', '', '', '', '', '', '',   │\n",
       "│             ┆                 ┆              ┆ '', '', '', '', '', '', '']}                      │\n",
       "│ 25          ┆ 1               ┆ 1            ┆ {'Basic or\\nChange': ['JO 7110.65AA', 'Change 1', │\n",
       "│             ┆                 ┆              ┆ 'Change 2', 'Change 3', 'JO 7110.65BB', 'Change   │\n",
       "│             ┆                 ┆              ┆ 1', 'Change 2', 'Change 3'], 'Cutoff Date         │\n",
       "│             ┆                 ┆              ┆ for\\nCompletion': ['11/3/22', '4/20/23',          │\n",
       "│             ┆                 ┆              ┆ '10/5/23', '3/21/24', '9/5/24', '2/20/25',        │\n",
       "│             ┆                 ┆              ┆ '8/7/25', '1/22/26'], 'Effective Date\\nof         │\n",
       "│             ┆                 ┆              ┆ Publication': ['4/20/23', '10/5/23', '3/21/24',   │\n",
       "│             ┆                 ┆              ┆ '9/5/24', '2/20/25', '8/7/25', '1/22/26',         │\n",
       "│             ┆                 ┆              ┆ '7/9/26']}                                        │\n",
       "│ 26          ┆ 1               ┆ 1            ┆ {'Military\\nHeadquarters': ['U.S. Army\\nUSAASA',  │\n",
       "│             ┆                 ┆              ┆ 'U.S. Air Force\\nHQ AFFSA', 'U.S. Navy\\nCNO       │\n",
       "│             ┆                 ┆              ┆ (N980A)'], 'DSN': ['656−4868', '884-5509',        │\n",
       "│             ┆                 ┆              ┆ '224−2638'], 'Commercial': ['(703) 806−4868',     │\n",
       "│             ┆                 ┆              ┆ '(405) 734-5509', '(703) 614−2638']}              │\n",
       "│ 27          ┆ 1               ┆ 1            ┆ {'Branch': ['U.S. Navy', 'U.S. Air Force', 'U.S.  │\n",
       "│             ┆                 ┆              ┆ Army'], 'Address': ['Department of the            │\n",
       "│             ┆                 ┆              ┆ Navy\\nChief of Naval Operations\\nN980A,           │\n",
       "│             ┆                 ┆              ┆ NAATSEA\\n2000 Navy Pentagon (5D453)\\nWashington,  │\n",
       "│             ┆                 ┆              ┆ D.C. 20350−2000', 'HQ AFFSA\\n5316 S. Douglas      │\n",
       "│             ┆                 ┆              ┆ Blvd\\nBldg 8400, Room 232\\nOklahoma City, OK      │\n",
       "│             ┆                 ┆              ┆ 73150', 'Director\\nUSAASA (MOAS−AS)\\n9325 Gunston │\n",
       "│             ┆                 ┆              ┆ Road, Suite N319\\nFt. Belvoir, VA 22060−5582']}   │\n",
       "│ 32          ┆ 1               ┆ 1            ┆ {'Abbreviation': ['AAR .......', 'AAR .......',   │\n",
       "│             ┆                 ┆              ┆ 'AC ........', 'ACC .......', 'ACE−IDS . . .',    │\n",
       "│             ┆                 ┆              ┆ 'ACL .......', 'ACLS ......', 'ADAR .....', 'ADC  │\n",
       "│             ┆                 ┆              ┆ .......', 'ADIZ ......', 'ADR .......', 'ADS      │\n",
       "│             ┆                 ┆              ┆ .......', 'ADS−B .....', 'ADS−C .....', 'AFP      │\n",
       "│             ┆                 ┆              ┆ .......', 'AIDC ......', 'AIM .......', 'AIRMET . │\n",
       "│             ┆                 ┆              ┆ . .', 'ALDARS . . .', 'ALERFA . . .', 'ALNOT      │\n",
       "│             ┆                 ┆              ┆ ....', 'ALS .......', 'ALTRV .....', 'AM          │\n",
       "│             ┆                 ┆              ┆ ........', 'AMASS ....', 'AMB ......', 'AMVER     │\n",
       "│             ┆                 ┆              ┆ ....', 'ANG .......', 'APR .......'], 'Meaning':  │\n",
       "│             ┆                 ┆              ┆ ['Adapted arrival route', 'Airport arrival rate', │\n",
       "│             ┆                 ┆              ┆ 'Advisory Circular', 'Area Control Center', 'ASOS │\n",
       "│             ┆                 ┆              ┆ Controller Equipment− Information\\nDisplay        │\n",
       "│             ┆                 ┆              ┆ System', 'Aircraft list', 'Automatic Carrier      │\n",
       "│             ┆                 ┆              ┆ Landing System', 'Adapted departure arrival       │\n",
       "│             ┆                 ┆              ┆ route', 'Aerospace Defense Command', 'Air Defense │\n",
       "│             ┆                 ┆              ┆ Identification Zone (to be\\npronounced “AY        │\n",
       "│             ┆                 ┆              ┆ DIZ”)', 'Adapted departure route', 'Automatic     │\n",
       "│             ┆                 ┆              ┆ Dependent Surveillance', 'Automatic               │\n",
       "│             ┆                 ┆              ┆ Dependent\\nSurveillance−Broadcast', 'Automatic    │\n",
       "│             ┆                 ┆              ┆ Dependent\\nSurveillance−Contract', 'Airspace Flow │\n",
       "│             ┆                 ┆              ┆ Program', 'ATS Interfacility Data                 │\n",
       "│             ┆                 ┆              ┆ Communications', 'Aeronautical Information        │\n",
       "│             ┆                 ┆              ┆ Manual', 'Airmen’s meteorological information',   │\n",
       "│             ┆                 ┆              ┆ 'Automated Lightning Detection and\\nReporting     │\n",
       "│             ┆                 ┆              ┆ System', 'Alert phase code (Alerting Service)',   │\n",
       "│             ┆                 ┆              ┆ 'Alert notice', 'Approach Light System',          │\n",
       "│             ┆                 ┆              ┆ 'Altitude reservation', 'Ambiguity−A disparity    │\n",
       "│             ┆                 ┆              ┆ greater than a\\nlocally adapted distance exists   │\n",
       "│             ┆                 ┆              ┆ between the\\nposition declared for a target by    │\n",
       "│             ┆                 ┆              ┆ MEARTS\\nand another facility’s computer           │\n",
       "│             ┆                 ┆              ┆ declared\\nposition during interfacility handoff', │\n",
       "│             ┆                 ┆              ┆ 'Airport Movement Area Safety System',            │\n",
       "│             ┆                 ┆              ┆ 'Ambiguity−A disparity greater than a\\nlocally    │\n",
       "│             ┆                 ┆              ┆ adapted distance exists between the\\nposition     │\n",
       "│             ┆                 ┆              ┆ declared for a target by STARS\\nand another       │\n",
       "│             ┆                 ┆              ┆ facility’s computer declared\\nposition during     │\n",
       "│             ┆                 ┆              ┆ interfacility handoff', 'Automated Mutual         │\n",
       "│             ┆                 ┆              ┆ Assistance Vessel\\nRescue System', 'Air National  │\n",
       "│             ┆                 ┆              ┆ Guard', 'ATC preferred route']}                   │\n",
       "└─────────────┴─────────────────┴──────────────┴───────────────────────────────────────────────────┘"
      ]
     },
     "execution_count": 5,
     "metadata": {},
     "output_type": "execute_result"
    }
   ],
   "source": [
    "df_tables = analyze_pdf_table_content(FILE_PATH)\n",
    "print(df_tables.height)\n",
    "df_tables.head()"
   ]
  },
  {
   "cell_type": "markdown",
   "metadata": {},
   "source": [
    "### Example"
   ]
  },
  {
   "cell_type": "code",
   "execution_count": 6,
   "metadata": {},
   "outputs": [
    {
     "data": {
      "text/html": [
       "<div><style>\n",
       ".dataframe > thead > tr,\n",
       ".dataframe > tbody > tr {\n",
       "  text-align: right;\n",
       "  white-space: pre-wrap;\n",
       "}\n",
       "</style>\n",
       "<small>shape: (1, 4)</small><table border=\"1\" class=\"dataframe\"><thead><tr><th>page_number</th><th>contains_tables</th><th>table_number</th><th>extracted_table_text</th></tr><tr><td>i64</td><td>i64</td><td>i64</td><td>str</td></tr></thead><tbody><tr><td>87</td><td>1</td><td>4</td><td>&quot;{&#x27;As Zero&#x27;: [&#x27;“Field elevation one six zero.”\\n“Heading three zero zero.”\\n“One zero thousand five\\nhundred.”&#x27;], &#x27;As Group&#x27;: [&#x27;“Western five thirty.”\\n“EMAIR One Ten.”\\n“Ten thousand five hundred.”&#x27;]}&quot;</td></tr></tbody></table></div>"
      ],
      "text/plain": [
       "shape: (1, 4)\n",
       "┌─────────────┬─────────────────┬──────────────┬───────────────────────────────────────────────────┐\n",
       "│ page_number ┆ contains_tables ┆ table_number ┆ extracted_table_text                              │\n",
       "│ ---         ┆ ---             ┆ ---          ┆ ---                                               │\n",
       "│ i64         ┆ i64             ┆ i64          ┆ str                                               │\n",
       "╞═════════════╪═════════════════╪══════════════╪═══════════════════════════════════════════════════╡\n",
       "│ 87          ┆ 1               ┆ 4            ┆ {'As Zero': ['“Field elevation one six            │\n",
       "│             ┆                 ┆              ┆ zero.”\\n“Heading three zero zero.”\\n“One zero     │\n",
       "│             ┆                 ┆              ┆ thousand five\\nhundred.”'], 'As Group':           │\n",
       "│             ┆                 ┆              ┆ ['“Western five thirty.”\\n“EMAIR One Ten.”\\n“Ten  │\n",
       "│             ┆                 ┆              ┆ thousand five hundred.”']}                        │\n",
       "└─────────────┴─────────────────┴──────────────┴───────────────────────────────────────────────────┘"
      ]
     },
     "execution_count": 6,
     "metadata": {},
     "output_type": "execute_result"
    }
   ],
   "source": [
    "df_tables[44]"
   ]
  },
  {
   "cell_type": "code",
   "execution_count": 7,
   "metadata": {},
   "outputs": [
    {
     "data": {
      "text/plain": [
       "\"{'As Zero': ['“Field elevation one six zero.”\\\\n“Heading three zero zero.”\\\\n“One zero thousand five\\\\nhundred.”'], 'As Group': ['“Western five thirty.”\\\\n“EMAIR One Ten.”\\\\n“Ten thousand five hundred.”']}\""
      ]
     },
     "execution_count": 7,
     "metadata": {},
     "output_type": "execute_result"
    }
   ],
   "source": [
    "table = df_tables[44][\"extracted_table_text\"][0]\n",
    "table"
   ]
  },
  {
   "cell_type": "code",
   "execution_count": 8,
   "metadata": {},
   "outputs": [
    {
     "name": "stdout",
     "output_type": "stream",
     "text": [
      "Please provide a detailed description in paragraph format consisting of only sentences and no bullet points or lists going over the content of a table. \n",
      "This table is formatted as a Python dictionary in which each key represents a column name and the corresponding value is a list of strings representing the row values for that column.\n",
      "Do not explicitly state that the table is formatted as a Python dictionary.\n",
      "\n",
      "TABLE\n",
      "-----\n",
      "{'As Zero': ['“Field elevation one six zero.”\\n“Heading three zero zero.”\\n“One zero thousand five\\nhundred.”'], 'As Group': ['“Western five thirty.”\\n“EMAIR One Ten.”\\n“Ten thousand five hundred.”']}\n"
     ]
    }
   ],
   "source": [
    "environment = Environment(loader=FileSystemLoader(\"../prompts/\"))\n",
    "template = environment.get_template(\"table_to_text_prompt.jinja2\")\n",
    "table_to_text_prompt = template.render(text=table)\n",
    "print(table_to_text_prompt)"
   ]
  },
  {
   "cell_type": "code",
   "execution_count": 9,
   "metadata": {},
   "outputs": [],
   "source": [
    "# chat_completion = await client.chat.completions.create(\n",
    "#     messages=[\n",
    "#             {\n",
    "#                 \"role\": \"user\",\n",
    "#                 \"content\": f\"{table_to_text_prompt}\",\n",
    "#             }\n",
    "#         ],\n",
    "#         model=\"gpt-4o-2024-08-06\",\n",
    "#         temperature=0,\n",
    "#         seed=42,\n",
    "#     )\n",
    "# print(chat_completion.choices[0].message.content)"
   ]
  },
  {
   "cell_type": "markdown",
   "metadata": {},
   "source": [
    "<img src=\"images/2_obtain_text_descriptions_images_tables_example_1.png\" alt=\"Original Table\" width=\"1200\" />"
   ]
  },
  {
   "cell_type": "markdown",
   "metadata": {},
   "source": [
    "The table presents two columns, each containing a list of strings that represent different aviation-related phrases. The first column, titled \"As Zero,\" includes phrases such as \"Field elevation one six zero,\" \"Heading three zero zero,\" and \"One zero thousand five hundred.\" These phrases are typically used in aviation to communicate specific numerical values related to field elevation, heading, and altitude, with a focus on the use of zeros in the numbers. The second column, titled \"As Group,\" features phrases like \"Western five thirty,\" \"EMAIR One Ten,\" and \"Ten thousand five hundred.\" These phrases also convey numerical information but are expressed in a manner that groups numbers together, such as in flight numbers or altitudes, without emphasizing individual zeros. The content of these columns highlights the different ways numerical information can be communicated in aviation contexts, either by emphasizing each digit or by grouping numbers together for clarity and brevity."
   ]
  },
  {
   "cell_type": "markdown",
   "metadata": {},
   "source": [
    "### All Extracted Table Text"
   ]
  },
  {
   "cell_type": "code",
   "execution_count": 10,
   "metadata": {},
   "outputs": [],
   "source": [
    "prompts = generate_prompts_from_text_list(\n",
    "    texts=df_tables[\"extracted_table_text\"].to_list(),\n",
    "    template_path=\"../prompts/\",\n",
    "    prompt_file_name=\"table_to_text_prompt.jinja2\",\n",
    ")"
   ]
  },
  {
   "cell_type": "markdown",
   "metadata": {},
   "source": [
    "### Input Token Cost"
   ]
  },
  {
   "cell_type": "code",
   "execution_count": 11,
   "metadata": {},
   "outputs": [
    {
     "name": "stdout",
     "output_type": "stream",
     "text": [
      "The total cost for 22572 input tokens is about $0.06.\n"
     ]
    }
   ],
   "source": [
    "prompt_tokens = []\n",
    "for prompt in prompts:\n",
    "    num_tokens = get_num_tokens_from_string(prompt, encoding_name=\"gpt-4o\")\n",
    "    prompt_tokens.append(num_tokens)\n",
    "total_prompt_tokens = sum(prompt_tokens)\n",
    "\n",
    "total_input_token_cost = calculate_token_pricing(total_prompt_tokens, GPT_4O_2024_08_06_PRICE_PER_MILLION_INPUT_TOKENS)\n",
    "print(f\"The total cost for {total_prompt_tokens} input tokens is about ${total_input_token_cost}.\")"
   ]
  },
  {
   "cell_type": "markdown",
   "metadata": {},
   "source": [
    "### Output Token Cost"
   ]
  },
  {
   "cell_type": "code",
   "execution_count": 13,
   "metadata": {},
   "outputs": [
    {
     "name": "stdout",
     "output_type": "stream",
     "text": [
      "The total cost for 71344 output tokens is about $0.71.\n"
     ]
    }
   ],
   "source": [
    "output = \"\"\"The table presents two columns, each containing a list of strings that represent different aviation-related phrases. The first column, titled \"As Zero,\" includes phrases such as \"Field elevation one six zero,\" \"Heading three zero zero,\" and \"One zero thousand five hundred.\" These phrases are typically used in aviation to communicate specific numerical values related to field elevation, heading, and altitude, with a focus on the use of zeros in the numbers. The second column, titled \"As Group,\" features phrases like \"Western five thirty,\" \"EMAIR One Ten,\" and \"Ten thousand five hundred.\" These phrases also convey numerical information but are expressed in a manner that groups numbers together, such as in flight numbers or altitudes, without emphasizing individual zeros. The content of these columns highlights the different ways numerical information can be communicated in aviation contexts, either by emphasizing each digit or by grouping numbers together for clarity and brevity.\"\"\"\n",
    "output_tokens = get_num_tokens_from_string(output, encoding_name=\"gpt-4o\")\n",
    "total_output_tokens_estimate = len(prompts) * (output_tokens * 4) # Multiplying by 4 for a worst case scenario output estimate\n",
    "\n",
    "total_output_token_estimate_cost = calculate_token_pricing(total_output_tokens_estimate, GPT_4O_2024_08_06_PRICE_PER_MILLION_OUTPUT_TOKENS)\n",
    "print(f\"The total cost for {total_output_tokens_estimate} output tokens is about ${total_output_token_estimate_cost}.\")"
   ]
  },
  {
   "cell_type": "markdown",
   "metadata": {},
   "source": [
    "### Estimated Total Cost"
   ]
  },
  {
   "cell_type": "code",
   "execution_count": 14,
   "metadata": {},
   "outputs": [
    {
     "name": "stdout",
     "output_type": "stream",
     "text": [
      "0.77\n"
     ]
    }
   ],
   "source": [
    "print(total_input_token_cost + total_output_token_estimate_cost)"
   ]
  },
  {
   "cell_type": "markdown",
   "metadata": {},
   "source": [
    "### OpenAI API Calls"
   ]
  },
  {
   "cell_type": "markdown",
   "metadata": {},
   "source": []
  }
 ],
 "metadata": {
  "kernelspec": {
   "display_name": "Python 3",
   "language": "python",
   "name": "python3"
  },
  "language_info": {
   "codemirror_mode": {
    "name": "ipython",
    "version": 3
   },
   "file_extension": ".py",
   "mimetype": "text/x-python",
   "name": "python",
   "nbconvert_exporter": "python",
   "pygments_lexer": "ipython3",
   "version": "3.10.12"
  }
 },
 "nbformat": 4,
 "nbformat_minor": 2
}
