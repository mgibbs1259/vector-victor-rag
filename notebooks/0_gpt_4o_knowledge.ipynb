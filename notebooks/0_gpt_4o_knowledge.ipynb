{
 "cells": [
  {
   "cell_type": "code",
   "execution_count": 3,
   "metadata": {},
   "outputs": [],
   "source": [
    "import os\n",
    "from openai import OpenAI"
   ]
  },
  {
   "cell_type": "code",
   "execution_count": 9,
   "metadata": {},
   "outputs": [],
   "source": [
    "client = OpenAI(\n",
    "    api_key=os.environ.get(\"OPENAI_API_KEY\"),\n",
    ")"
   ]
  },
  {
   "cell_type": "code",
   "execution_count": 20,
   "metadata": {},
   "outputs": [],
   "source": [
    "# chat_completion_1 = client.chat.completions.create(\n",
    "#     messages=[\n",
    "#         {\n",
    "#             \"role\": \"user\",\n",
    "#             \"content\": \"What is the FAA Order JO 7110.65?\",\n",
    "#         }\n",
    "#     ],\n",
    "#     model=\"gpt-4o-2024-08-06\",\n",
    "#     temperature=0,\n",
    "#     seed=42\n",
    "# )\n",
    "# print(chat_completion_1.choices[0].message)"
   ]
  },
  {
   "cell_type": "markdown",
   "metadata": {},
   "source": [
    "### GPT 4o Response\n",
    "The FAA Order JO 7110.65 is an essential document issued by the Federal Aviation Administration (FAA) that provides comprehensive guidelines and procedures for air traffic control (ATC) operations in the United States. It is commonly referred to as the \"Air Traffic Control\" manual and serves as the primary reference for air traffic controllers. The document outlines standardized procedures for managing and directing aircraft movements both in the air and on the ground, ensuring safety and efficiency in the National Airspace System (NAS).\\n\\nThe order covers a wide range of topics, including communication protocols, separation standards, radar operations, and emergency procedures. It is regularly updated to reflect changes in technology, regulations, and best practices in air traffic management. Controllers, pilots, and other aviation professionals rely on JO 7110.65 to maintain consistent and safe operations across the aviation industry."
   ]
  },
  {
   "cell_type": "markdown",
   "metadata": {},
   "source": [
    "### Commentary\n",
    "GPT 4o's response is a reasonable summary of the FAA Order JO 7110.65."
   ]
  },
  {
   "cell_type": "code",
   "execution_count": 19,
   "metadata": {},
   "outputs": [],
   "source": [
    "# chat_completion_2 = client.chat.completions.create(\n",
    "#     messages=[\n",
    "#         {\n",
    "#             \"role\": \"user\",\n",
    "#             \"content\": \"What is the most up-to-date version of the FAA Order JO 7110.65, including the number and date issued, that you were trained on?\",\n",
    "#         }\n",
    "#     ],\n",
    "#     model=\"gpt-4o-2024-08-06\",\n",
    "#     temperature=0,\n",
    "#     seed=42\n",
    "# )\n",
    "# print(chat_completion_2.choices[0].message)"
   ]
  },
  {
   "cell_type": "markdown",
   "metadata": {},
   "source": [
    "### GPT 4o Response\n",
    "The most up-to-date version of the FAA Order JO 7110.65 that I was trained on is JO 7110.65Z, which was issued on June 15, 2023. Please verify with the FAA or their official website for the latest updates, as new versions may have been released since my last update."
   ]
  },
  {
   "cell_type": "markdown",
   "metadata": {},
   "source": [
    "### Commentary\n",
    "GPT 4o's response is somewhat factual. [FAA Order JO 7110.65Z](https://www.faa.gov/regulations_policies/orders_notices/index.cfm/go/document.information/documentID/1039720) does exist, but it was issued on May 5, 2021 and canceled on April 20, 2023 by JO 7110.65AA."
   ]
  }
 ],
 "metadata": {
  "kernelspec": {
   "display_name": "Python 3",
   "language": "python",
   "name": "python3"
  },
  "language_info": {
   "codemirror_mode": {
    "name": "ipython",
    "version": 3
   },
   "file_extension": ".py",
   "mimetype": "text/x-python",
   "name": "python",
   "nbconvert_exporter": "python",
   "pygments_lexer": "ipython3",
   "version": "3.10.12"
  }
 },
 "nbformat": 4,
 "nbformat_minor": 2
}
