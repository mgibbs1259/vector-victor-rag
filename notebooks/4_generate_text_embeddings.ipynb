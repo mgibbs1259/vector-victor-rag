{
 "cells": [
  {
   "cell_type": "code",
   "execution_count": 1,
   "metadata": {},
   "outputs": [
    {
     "data": {
      "text/plain": [
       "polars.config.Config"
      ]
     },
     "execution_count": 1,
     "metadata": {},
     "output_type": "execute_result"
    }
   ],
   "source": [
    "import os\n",
    "import sys\n",
    "\n",
    "import polars as pl\n",
    "from langchain_text_splitters import RecursiveCharacterTextSplitter\n",
    "\n",
    "sys.path.append(os.path.abspath(os.path.join(\"..\")))\n",
    "from rag.parse_pdfs import analyze_pdf_text_content\n",
    "from rag.openai_helpers import (\n",
    "    get_num_tokens_from_string,\n",
    "    calculate_token_pricing,\n",
    "    create_embedding_request,\n",
    "    write_requests_to_jsonl,\n",
    "    create_openai_batch_process,\n",
    "    check_openai_batch_status,\n",
    "    read_batch_chat_completions_output_jsonl_to_polars,\n",
    "    read_batch_embeddings_output_jsonl_to_polars,\n",
    ")\n",
    "\n",
    "pl.Config.set_fmt_str_lengths(5000)"
   ]
  },
  {
   "cell_type": "code",
   "execution_count": 2,
   "metadata": {},
   "outputs": [],
   "source": [
    "TEXT_EMBEDDING_3_SMALL_PRICE_PER_MILLION_INPUT_TOKENS = 0.020\n",
    "TEXT_EMBEDDING_3_BATCH_PRICE_PER_MILLION_INPUT_TOKENS = 0.010"
   ]
  },
  {
   "cell_type": "markdown",
   "metadata": {},
   "source": [
    "# Table Text Descriptions"
   ]
  },
  {
   "cell_type": "code",
   "execution_count": 3,
   "metadata": {},
   "outputs": [
    {
     "data": {
      "text/html": [
       "<div><style>\n",
       ".dataframe > thead > tr,\n",
       ".dataframe > tbody > tr {\n",
       "  text-align: right;\n",
       "  white-space: pre-wrap;\n",
       "}\n",
       "</style>\n",
       "<small>shape: (5, 3)</small><table border=\"1\" class=\"dataframe\"><thead><tr><th>id</th><th>custom_id</th><th>content</th></tr><tr><td>str</td><td>str</td><td>str</td></tr></thead><tbody><tr><td>&quot;batch_req_GAq5cBQ1HT6AZ1Sd24cZVKjj&quot;</td><td>&quot;prompt_0&quot;</td><td>&quot;The table consists of four columns, each with a distinct heading, although one of the columns lacks a defined name. The first column is labeled &quot;CHANGE\\nTO\\nBASIC&quot; and contains a series of entries, most of which are either `None` or empty strings, indicating a lack of data or changes in this category. The second column, titled &quot;SUPPLEMENTS,&quot; is filled entirely with empty strings, suggesting that no supplementary information is provided for any of the entries. The third column is unnamed, represented by a `None` key, and similarly contains only empty strings, further emphasizing the absence of data or additional details. The final column, &quot;OPTIONAL,&quot; mirrors the pattern seen in the &quot;CHANGE\\nTO\\nBASIC&quot; column, with entries predominantly consisting of `None` or empty strings, indicating that optional information is either not applicable or not provided. Overall, the table appears to be largely devoid of substantive content across all columns, with the majority of entries being empty or undefined.&quot;</td></tr><tr><td>&quot;batch_req_v7VjF65zNYLlbJJT5l453Wm1&quot;</td><td>&quot;prompt_1&quot;</td><td>&quot;The table presents a structured overview of a series of documents and their respective timelines for completion and publication. It begins with a column labeled &quot;Basic or Change,&quot; which lists a sequence of documents starting with &quot;JO 7110.65AA,&quot; followed by three subsequent changes labeled &quot;Change 1,&quot; &quot;Change 2,&quot; and &quot;Change 3.&quot; This pattern repeats for another document, &quot;JO 7110.65BB,&quot; which is also followed by three changes. The next column, &quot;Cutoff Date for Completion,&quot; provides specific dates by which each document or change must be completed. These dates range from November 3, 2022, for the initial document, to January 22, 2026, for the last change listed. The final column, &quot;Effective Date of Publication,&quot; indicates when each document or change is officially published. The publication dates start on April 20, 2023, and extend to July 9, 2026. This structured format allows for a clear understanding of the timeline and progression of each document and its changes, highlighting the relationship between the completion and publication dates.&quot;</td></tr><tr><td>&quot;batch_req_LcWzRXniPYQURjF1o3JRJYkr&quot;</td><td>&quot;prompt_2&quot;</td><td>&quot;The table presents information about various military headquarters, their DSN numbers, and corresponding commercial contact numbers. The first column lists the military headquarters, starting with the U.S. Army, specifically the USAASA, followed by the U.S. Air Force, identified as HQ AFFSA, and finally the U.S. Navy, noted as CNO (N980A). The second column provides the DSN numbers for each of these headquarters, with the U.S. Army having the DSN number 656−4868, the U.S. Air Force listed with 884-5509, and the U.S. Navy with 224−2638. The third column details the commercial phone numbers associated with each headquarters, where the U.S. Army can be reached at (703) 806−4868, the U.S. Air Force at (405) 734-5509, and the U.S. Navy at (703) 614−2638. This structured information allows for easy reference to contact details for these military entities.&quot;</td></tr><tr><td>&quot;batch_req_DWfWSkuqNq6Ys1jqS8ciUoc5&quot;</td><td>&quot;prompt_3&quot;</td><td>&quot;The table contains information about three branches of the United States military, specifically the U.S. Navy, U.S. Air Force, and U.S. Army, along with their respective addresses. The U.S. Navy&#x27;s address is listed as the Department of the Navy, Chief of Naval Operations, N980A, NAATSEA, located at 2000 Navy Pentagon (5D453) in Washington, D.C., with the postal code 20350−2000. The U.S. Air Force&#x27;s address is given as HQ AFFSA, situated at 5316 S. Douglas Blvd, Bldg 8400, Room 232, in Oklahoma City, OK, with the postal code 73150. Lastly, the U.S. Army&#x27;s address is noted as the Director, USAASA (MOAS−AS), at 9325 Gunston Road, Suite N319, in Ft. Belvoir, VA, with the postal code 22060−5582. Each address provides a detailed location for the respective branch&#x27;s headquarters or main office, indicating specific departments or offices within larger complexes.&quot;</td></tr><tr><td>&quot;batch_req_bIvlPpHSFNX1puN5wDUnOx1O&quot;</td><td>&quot;prompt_4&quot;</td><td>&quot;The table presents a collection of abbreviations alongside their corresponding meanings, offering a glimpse into various aviation and aeronautical terminologies. The abbreviation &quot;AAR&quot; is associated with two different meanings: &quot;Adapted arrival route&quot; and &quot;Airport arrival rate,&quot; indicating its use in different contexts. &quot;AC&quot; stands for &quot;Advisory Circular,&quot; while &quot;ACC&quot; refers to &quot;Area Control Center,&quot; both of which are crucial in aviation operations. The abbreviation &quot;ACE−IDS&quot; is expanded to &quot;ASOS Controller Equipment− Information Display System,&quot; highlighting its role in information management. &quot;ACL&quot; is short for &quot;Aircraft list,&quot; and &quot;ACLS&quot; denotes the &quot;Automatic Carrier Landing System,&quot; both essential for aircraft operations. &quot;ADAR&quot; is an abbreviation for &quot;Adapted departure arrival route,&quot; and &quot;ADC&quot; stands for &quot;Aerospace Defense Command,&quot; reflecting their specific functions in aviation. The term &quot;ADIZ&quot; is pronounced as &quot;AY DIZ&quot; and refers to the &quot;Air Defense Identification Zone,&quot; a critical area for national security. &quot;ADR&quot; is the &quot;Adapted departure route,&quot; while &quot;ADS&quot; stands for &quot;Automatic Dependent Surveillance,&quot; a key component in modern air traffic management. The abbreviations &quot;ADS−B&quot; and &quot;ADS−C&quot; represent &quot;Automatic Dependent Surveillance−Broadcast&quot; and &quot;Automatic Dependent Surveillance−Contract,&quot; respectively, both of which are advancements in surveillance technology. &quot;AFP&quot; is the &quot;Airspace Flow Program,&quot; and &quot;AIDC&quot; stands for &quot;ATS Interfacility Data Communications,&quot; both of which facilitate efficient airspace management. &quot;AIM&quot; refers to the &quot;Aeronautical Information Manual,&quot; a vital resource for pilots and aviation professionals. &quot;AIRMET&quot; is an abbreviation for &quot;Airmen’s meteorological information,&quot; providing essential weather updates. &quot;ALDARS&quot; stands for the &quot;Automated Lightning Detection and Reporting System,&quot; crucial for weather monitoring. &quot;ALERFA&quot; is the &quot;Alert phase code (Alerting Service),&quot; and &quot;ALNOT&quot; is an &quot;Alert notice,&quot; both important for emergency response. &quot;ALS&quot; refers to the &quot;Approach Light System,&quot; aiding in aircraft landing. &quot;ALTRV&quot; stands for &quot;Altitude reservation,&quot; a term used in air traffic control. The abbreviation &quot;AM&quot; has a complex meaning related to ambiguity in target positioning, specifically &quot;Ambiguity−A disparity greater than a locally adapted distance exists between the position declared for a target by MEARTS and another facility’s computer declared position during interfacility handoff.&quot; &quot;AMASS&quot; is the &quot;Airport Movement Area Safety System,&quot; enhancing airport safety. Another instance of &quot;AMB&quot; refers to a similar ambiguity issue, this time involving &quot;STARS&quot; instead of &quot;MEARTS.&quot; &quot;AMVER&quot; stands for the &quot;Automated Mutual Assistance Vessel Rescue System,&quot; a maritime safety initiative. &quot;ANG&quot; is the &quot;Air National Guard,&quot; a military reserve force. Lastly, &quot;APR&quot; is the &quot;ATC preferred route,&quot; indicating a route preferred by air traffic control for efficiency.&quot;</td></tr></tbody></table></div>"
      ],
      "text/plain": [
       "shape: (5, 3)\n",
       "┌────────────────────────────────────┬───────────┬─────────────────────────────────────────────────┐\n",
       "│ id                                 ┆ custom_id ┆ content                                         │\n",
       "│ ---                                ┆ ---       ┆ ---                                             │\n",
       "│ str                                ┆ str       ┆ str                                             │\n",
       "╞════════════════════════════════════╪═══════════╪═════════════════════════════════════════════════╡\n",
       "│ batch_req_GAq5cBQ1HT6AZ1Sd24cZVKjj ┆ prompt_0  ┆ The table consists of four columns, each with a │\n",
       "│                                    ┆           ┆ distinct heading, although one of the columns   │\n",
       "│                                    ┆           ┆ lacks a defined name. The first column is       │\n",
       "│                                    ┆           ┆ labeled \"CHANGE\\nTO\\nBASIC\" and contains a      │\n",
       "│                                    ┆           ┆ series of entries, most of which are either     │\n",
       "│                                    ┆           ┆ `None` or empty strings, indicating a lack of   │\n",
       "│                                    ┆           ┆ data or changes in this category. The second    │\n",
       "│                                    ┆           ┆ column, titled \"SUPPLEMENTS,\" is filled         │\n",
       "│                                    ┆           ┆ entirely with empty strings, suggesting that no │\n",
       "│                                    ┆           ┆ supplementary information is provided for any   │\n",
       "│                                    ┆           ┆ of the entries. The third column is unnamed,    │\n",
       "│                                    ┆           ┆ represented by a `None` key, and similarly      │\n",
       "│                                    ┆           ┆ contains only empty strings, further            │\n",
       "│                                    ┆           ┆ emphasizing the absence of data or additional   │\n",
       "│                                    ┆           ┆ details. The final column, \"OPTIONAL,\" mirrors  │\n",
       "│                                    ┆           ┆ the pattern seen in the \"CHANGE\\nTO\\nBASIC\"     │\n",
       "│                                    ┆           ┆ column, with entries predominantly consisting   │\n",
       "│                                    ┆           ┆ of `None` or empty strings, indicating that     │\n",
       "│                                    ┆           ┆ optional information is either not applicable   │\n",
       "│                                    ┆           ┆ or not provided. Overall, the table appears to  │\n",
       "│                                    ┆           ┆ be largely devoid of substantive content across │\n",
       "│                                    ┆           ┆ all columns, with the majority of entries being │\n",
       "│                                    ┆           ┆ empty or undefined.                             │\n",
       "│ batch_req_v7VjF65zNYLlbJJT5l453Wm1 ┆ prompt_1  ┆ The table presents a structured overview of a   │\n",
       "│                                    ┆           ┆ series of documents and their respective        │\n",
       "│                                    ┆           ┆ timelines for completion and publication. It    │\n",
       "│                                    ┆           ┆ begins with a column labeled \"Basic or Change,\" │\n",
       "│                                    ┆           ┆ which lists a sequence of documents starting    │\n",
       "│                                    ┆           ┆ with \"JO 7110.65AA,\" followed by three          │\n",
       "│                                    ┆           ┆ subsequent changes labeled \"Change 1,\" \"Change  │\n",
       "│                                    ┆           ┆ 2,\" and \"Change 3.\" This pattern repeats for    │\n",
       "│                                    ┆           ┆ another document, \"JO 7110.65BB,\" which is also │\n",
       "│                                    ┆           ┆ followed by three changes. The next column,     │\n",
       "│                                    ┆           ┆ \"Cutoff Date for Completion,\" provides specific │\n",
       "│                                    ┆           ┆ dates by which each document or change must be  │\n",
       "│                                    ┆           ┆ completed. These dates range from November 3,   │\n",
       "│                                    ┆           ┆ 2022, for the initial document, to January 22,  │\n",
       "│                                    ┆           ┆ 2026, for the last change listed. The final     │\n",
       "│                                    ┆           ┆ column, \"Effective Date of Publication,\"        │\n",
       "│                                    ┆           ┆ indicates when each document or change is       │\n",
       "│                                    ┆           ┆ officially published. The publication dates     │\n",
       "│                                    ┆           ┆ start on April 20, 2023, and extend to July 9,  │\n",
       "│                                    ┆           ┆ 2026. This structured format allows for a clear │\n",
       "│                                    ┆           ┆ understanding of the timeline and progression   │\n",
       "│                                    ┆           ┆ of each document and its changes, highlighting  │\n",
       "│                                    ┆           ┆ the relationship between the completion and     │\n",
       "│                                    ┆           ┆ publication dates.                              │\n",
       "│ batch_req_LcWzRXniPYQURjF1o3JRJYkr ┆ prompt_2  ┆ The table presents information about various    │\n",
       "│                                    ┆           ┆ military headquarters, their DSN numbers, and   │\n",
       "│                                    ┆           ┆ corresponding commercial contact numbers. The   │\n",
       "│                                    ┆           ┆ first column lists the military headquarters,   │\n",
       "│                                    ┆           ┆ starting with the U.S. Army, specifically the   │\n",
       "│                                    ┆           ┆ USAASA, followed by the U.S. Air Force,         │\n",
       "│                                    ┆           ┆ identified as HQ AFFSA, and finally the U.S.    │\n",
       "│                                    ┆           ┆ Navy, noted as CNO (N980A). The second column   │\n",
       "│                                    ┆           ┆ provides the DSN numbers for each of these      │\n",
       "│                                    ┆           ┆ headquarters, with the U.S. Army having the DSN │\n",
       "│                                    ┆           ┆ number 656−4868, the U.S. Air Force listed with │\n",
       "│                                    ┆           ┆ 884-5509, and the U.S. Navy with 224−2638. The  │\n",
       "│                                    ┆           ┆ third column details the commercial phone       │\n",
       "│                                    ┆           ┆ numbers associated with each headquarters,      │\n",
       "│                                    ┆           ┆ where the U.S. Army can be reached at (703)     │\n",
       "│                                    ┆           ┆ 806−4868, the U.S. Air Force at (405) 734-5509, │\n",
       "│                                    ┆           ┆ and the U.S. Navy at (703) 614−2638. This       │\n",
       "│                                    ┆           ┆ structured information allows for easy          │\n",
       "│                                    ┆           ┆ reference to contact details for these military │\n",
       "│                                    ┆           ┆ entities.                                       │\n",
       "│ batch_req_DWfWSkuqNq6Ys1jqS8ciUoc5 ┆ prompt_3  ┆ The table contains information about three      │\n",
       "│                                    ┆           ┆ branches of the United States military,         │\n",
       "│                                    ┆           ┆ specifically the U.S. Navy, U.S. Air Force, and │\n",
       "│                                    ┆           ┆ U.S. Army, along with their respective          │\n",
       "│                                    ┆           ┆ addresses. The U.S. Navy's address is listed as │\n",
       "│                                    ┆           ┆ the Department of the Navy, Chief of Naval      │\n",
       "│                                    ┆           ┆ Operations, N980A, NAATSEA, located at 2000     │\n",
       "│                                    ┆           ┆ Navy Pentagon (5D453) in Washington, D.C., with │\n",
       "│                                    ┆           ┆ the postal code 20350−2000. The U.S. Air        │\n",
       "│                                    ┆           ┆ Force's address is given as HQ AFFSA, situated  │\n",
       "│                                    ┆           ┆ at 5316 S. Douglas Blvd, Bldg 8400, Room 232,   │\n",
       "│                                    ┆           ┆ in Oklahoma City, OK, with the postal code      │\n",
       "│                                    ┆           ┆ 73150. Lastly, the U.S. Army's address is noted │\n",
       "│                                    ┆           ┆ as the Director, USAASA (MOAS−AS), at 9325      │\n",
       "│                                    ┆           ┆ Gunston Road, Suite N319, in Ft. Belvoir, VA,   │\n",
       "│                                    ┆           ┆ with the postal code 22060−5582. Each address   │\n",
       "│                                    ┆           ┆ provides a detailed location for the respective │\n",
       "│                                    ┆           ┆ branch's headquarters or main office,           │\n",
       "│                                    ┆           ┆ indicating specific departments or offices      │\n",
       "│                                    ┆           ┆ within larger complexes.                        │\n",
       "│ batch_req_bIvlPpHSFNX1puN5wDUnOx1O ┆ prompt_4  ┆ The table presents a collection of              │\n",
       "│                                    ┆           ┆ abbreviations alongside their corresponding     │\n",
       "│                                    ┆           ┆ meanings, offering a glimpse into various       │\n",
       "│                                    ┆           ┆ aviation and aeronautical terminologies. The    │\n",
       "│                                    ┆           ┆ abbreviation \"AAR\" is associated with two       │\n",
       "│                                    ┆           ┆ different meanings: \"Adapted arrival route\" and │\n",
       "│                                    ┆           ┆ \"Airport arrival rate,\" indicating its use in   │\n",
       "│                                    ┆           ┆ different contexts. \"AC\" stands for \"Advisory   │\n",
       "│                                    ┆           ┆ Circular,\" while \"ACC\" refers to \"Area Control  │\n",
       "│                                    ┆           ┆ Center,\" both of which are crucial in aviation  │\n",
       "│                                    ┆           ┆ operations. The abbreviation \"ACE−IDS\" is       │\n",
       "│                                    ┆           ┆ expanded to \"ASOS Controller Equipment−         │\n",
       "│                                    ┆           ┆ Information Display System,\" highlighting its   │\n",
       "│                                    ┆           ┆ role in information management. \"ACL\" is short  │\n",
       "│                                    ┆           ┆ for \"Aircraft list,\" and \"ACLS\" denotes the     │\n",
       "│                                    ┆           ┆ \"Automatic Carrier Landing System,\" both        │\n",
       "│                                    ┆           ┆ essential for aircraft operations. \"ADAR\" is an │\n",
       "│                                    ┆           ┆ abbreviation for \"Adapted departure arrival     │\n",
       "│                                    ┆           ┆ route,\" and \"ADC\" stands for \"Aerospace Defense │\n",
       "│                                    ┆           ┆ Command,\" reflecting their specific functions   │\n",
       "│                                    ┆           ┆ in aviation. The term \"ADIZ\" is pronounced as   │\n",
       "│                                    ┆           ┆ \"AY DIZ\" and refers to the \"Air Defense         │\n",
       "│                                    ┆           ┆ Identification Zone,\" a critical area for       │\n",
       "│                                    ┆           ┆ national security. \"ADR\" is the \"Adapted        │\n",
       "│                                    ┆           ┆ departure route,\" while \"ADS\" stands for        │\n",
       "│                                    ┆           ┆ \"Automatic Dependent Surveillance,\" a key       │\n",
       "│                                    ┆           ┆ component in modern air traffic management. The │\n",
       "│                                    ┆           ┆ abbreviations \"ADS−B\" and \"ADS−C\" represent     │\n",
       "│                                    ┆           ┆ \"Automatic Dependent Surveillance−Broadcast\"    │\n",
       "│                                    ┆           ┆ and \"Automatic Dependent                        │\n",
       "│                                    ┆           ┆ Surveillance−Contract,\" respectively, both of   │\n",
       "│                                    ┆           ┆ which are advancements in surveillance          │\n",
       "│                                    ┆           ┆ technology. \"AFP\" is the \"Airspace Flow         │\n",
       "│                                    ┆           ┆ Program,\" and \"AIDC\" stands for \"ATS            │\n",
       "│                                    ┆           ┆ Interfacility Data Communications,\" both of     │\n",
       "│                                    ┆           ┆ which facilitate efficient airspace management. │\n",
       "│                                    ┆           ┆ \"AIM\" refers to the \"Aeronautical Information   │\n",
       "│                                    ┆           ┆ Manual,\" a vital resource for pilots and        │\n",
       "│                                    ┆           ┆ aviation professionals. \"AIRMET\" is an          │\n",
       "│                                    ┆           ┆ abbreviation for \"Airmen’s meteorological       │\n",
       "│                                    ┆           ┆ information,\" providing essential weather       │\n",
       "│                                    ┆           ┆ updates. \"ALDARS\" stands for the \"Automated     │\n",
       "│                                    ┆           ┆ Lightning Detection and Reporting System,\"      │\n",
       "│                                    ┆           ┆ crucial for weather monitoring. \"ALERFA\" is the │\n",
       "│                                    ┆           ┆ \"Alert phase code (Alerting Service),\" and      │\n",
       "│                                    ┆           ┆ \"ALNOT\" is an \"Alert notice,\" both important    │\n",
       "│                                    ┆           ┆ for emergency response. \"ALS\" refers to the     │\n",
       "│                                    ┆           ┆ \"Approach Light System,\" aiding in aircraft     │\n",
       "│                                    ┆           ┆ landing. \"ALTRV\" stands for \"Altitude           │\n",
       "│                                    ┆           ┆ reservation,\" a term used in air traffic        │\n",
       "│                                    ┆           ┆ control. The abbreviation \"AM\" has a complex    │\n",
       "│                                    ┆           ┆ meaning related to ambiguity in target          │\n",
       "│                                    ┆           ┆ positioning, specifically \"Ambiguity−A          │\n",
       "│                                    ┆           ┆ disparity greater than a locally adapted        │\n",
       "│                                    ┆           ┆ distance exists between the position declared   │\n",
       "│                                    ┆           ┆ for a target by MEARTS and another facility’s   │\n",
       "│                                    ┆           ┆ computer declared position during interfacility │\n",
       "│                                    ┆           ┆ handoff.\" \"AMASS\" is the \"Airport Movement Area │\n",
       "│                                    ┆           ┆ Safety System,\" enhancing airport safety.       │\n",
       "│                                    ┆           ┆ Another instance of \"AMB\" refers to a similar   │\n",
       "│                                    ┆           ┆ ambiguity issue, this time involving \"STARS\"    │\n",
       "│                                    ┆           ┆ instead of \"MEARTS.\" \"AMVER\" stands for the     │\n",
       "│                                    ┆           ┆ \"Automated Mutual Assistance Vessel Rescue      │\n",
       "│                                    ┆           ┆ System,\" a maritime safety initiative. \"ANG\" is │\n",
       "│                                    ┆           ┆ the \"Air National Guard,\" a military reserve    │\n",
       "│                                    ┆           ┆ force. Lastly, \"APR\" is the \"ATC preferred      │\n",
       "│                                    ┆           ┆ route,\" indicating a route preferred by air     │\n",
       "│                                    ┆           ┆ traffic control for efficiency.                 │\n",
       "└────────────────────────────────────┴───────────┴─────────────────────────────────────────────────┘"
      ]
     },
     "execution_count": 3,
     "metadata": {},
     "output_type": "execute_result"
    }
   ],
   "source": [
    "df_tables = read_batch_chat_completions_output_jsonl_to_polars(\n",
    "    \"../data/batch_table_to_text/batch_output_tables_to_text_1.jsonl\"\n",
    ")\n",
    "df_tables.head()"
   ]
  },
  {
   "cell_type": "markdown",
   "metadata": {},
   "source": [
    "### Chunking"
   ]
  },
  {
   "cell_type": "code",
   "execution_count": 4,
   "metadata": {},
   "outputs": [],
   "source": [
    "table_text_splitter = RecursiveCharacterTextSplitter(chunk_size=450, chunk_overlap=50)"
   ]
  },
  {
   "cell_type": "code",
   "execution_count": 5,
   "metadata": {},
   "outputs": [
    {
     "name": "stdout",
     "output_type": "stream",
     "text": [
      "Total table text chunks: 342\n"
     ]
    }
   ],
   "source": [
    "table_text_chunks = table_text_splitter.create_documents(df_tables[\"content\"])\n",
    "table_text_chunks = [tc.page_content.replace(\"\\n\", \" \") for tc in table_text_chunks]\n",
    "print(f\"Total table text chunks: {len(table_text_chunks)}\")"
   ]
  },
  {
   "cell_type": "code",
   "execution_count": 6,
   "metadata": {},
   "outputs": [
    {
     "name": "stdout",
     "output_type": "stream",
     "text": [
      "['The table consists of four columns, each with a distinct heading, although one of the columns lacks a defined name. The first column is labeled \"CHANGE\\\\nTO\\\\nBASIC\" and contains a series of entries, most of which are either `None` or empty strings, indicating a lack of data or changes in this category. The second column, titled \"SUPPLEMENTS,\" is filled entirely with empty strings, suggesting that no supplementary information is provided for any of', 'supplementary information is provided for any of the entries. The third column is unnamed, represented by a `None` key, and similarly contains only empty strings, further emphasizing the absence of data or additional details. The final column, \"OPTIONAL,\" mirrors the pattern seen in the \"CHANGE\\\\nTO\\\\nBASIC\" column, with entries predominantly consisting of `None` or empty strings, indicating that optional information is either not applicable or', 'optional information is either not applicable or not provided. Overall, the table appears to be largely devoid of substantive content across all columns, with the majority of entries being empty or undefined.', 'The table presents a structured overview of a series of documents and their respective timelines for completion and publication. It begins with a column labeled \"Basic or Change,\" which lists a sequence of documents starting with \"JO 7110.65AA,\" followed by three subsequent changes labeled \"Change 1,\" \"Change 2,\" and \"Change 3.\" This pattern repeats for another document, \"JO 7110.65BB,\" which is also followed by three changes. The next column,', 'also followed by three changes. The next column, \"Cutoff Date for Completion,\" provides specific dates by which each document or change must be completed. These dates range from November 3, 2022, for the initial document, to January 22, 2026, for the last change listed. The final column, \"Effective Date of Publication,\" indicates when each document or change is officially published. The publication dates start on April 20, 2023, and extend to']\n"
     ]
    }
   ],
   "source": [
    "print(table_text_chunks[0:5])"
   ]
  },
  {
   "cell_type": "markdown",
   "metadata": {},
   "source": [
    "### Input Token Cost"
   ]
  },
  {
   "cell_type": "code",
   "execution_count": 7,
   "metadata": {},
   "outputs": [
    {
     "name": "stdout",
     "output_type": "stream",
     "text": [
      "The cost for 27903 input tokens is about $0.0006.\n",
      "The batch cost for 27903 input tokens is about $0.0003.\n"
     ]
    }
   ],
   "source": [
    "tokens = []\n",
    "for text in table_text_chunks:\n",
    "    num_tokens = get_num_tokens_from_string(text, encoding_name=\"gpt-4o\")\n",
    "    tokens.append(num_tokens)\n",
    "total_tokens = sum(tokens)\n",
    "\n",
    "total_input_token_cost = calculate_token_pricing(total_tokens, TEXT_EMBEDDING_3_SMALL_PRICE_PER_MILLION_INPUT_TOKENS)\n",
    "print(f\"The cost for {total_tokens} input tokens is about ${total_input_token_cost}.\")\n",
    "\n",
    "total_input_token_batch_cost = calculate_token_pricing(\n",
    "    total_tokens, TEXT_EMBEDDING_3_BATCH_PRICE_PER_MILLION_INPUT_TOKENS\n",
    ")\n",
    "print(f\"The batch cost for {total_tokens} input tokens is about ${total_input_token_batch_cost}.\")"
   ]
  },
  {
   "cell_type": "markdown",
   "metadata": {},
   "source": [
    "### OpenAI Batch"
   ]
  },
  {
   "cell_type": "code",
   "execution_count": 8,
   "metadata": {},
   "outputs": [
    {
     "name": "stdout",
     "output_type": "stream",
     "text": [
      "Written 342 requests to ../data/batch_table_text_embeddings/table_text_embeddings_1.jsonl.\n",
      "Total requests written across all files: 342\n"
     ]
    }
   ],
   "source": [
    "write_requests_to_jsonl(\n",
    "    table_text_chunks,\n",
    "    base_output_path=\"../data/batch_table_text_embeddings\",\n",
    "    batch_request_file=\"table_text_embeddings\",\n",
    "    create_request=create_embedding_request,\n",
    ")"
   ]
  },
  {
   "cell_type": "code",
   "execution_count": null,
   "metadata": {},
   "outputs": [],
   "source": [
    "# create_openai_batch_process(\n",
    "#     api_key=os.environ.get(\"OPENAI_API_KEY\"),\n",
    "#     batch_request_file=\"../data/batch_table_text_embeddings/table_text_embeddings_1.jsonl\",\n",
    "#     batch_response_file=\"../data/batch_table_text_embeddings/batch_response_table_text_embeddings_1.json\",\n",
    "#     endpoint=\"/v1/embeddings\",\n",
    "#     description=\"table text embeddings 1\"\n",
    "#     )"
   ]
  },
  {
   "cell_type": "code",
   "execution_count": null,
   "metadata": {},
   "outputs": [],
   "source": [
    "# check_openai_batch_status(\n",
    "#     api_key=os.environ.get(\"OPENAI_API_KEY\"),\n",
    "#     batch_response_file=\"../data/batch_table_text_embeddings/batch_response_table_text_embeddings_1.json\",\n",
    "#     output_file=\"../data/batch_table_text_embeddings/batch_output_table_text_embeddings_1.jsonl\"\n",
    "#     )"
   ]
  },
  {
   "cell_type": "markdown",
   "metadata": {},
   "source": [
    "### Output"
   ]
  },
  {
   "cell_type": "code",
   "execution_count": 9,
   "metadata": {},
   "outputs": [
    {
     "data": {
      "text/html": [
       "<div><style>\n",
       ".dataframe > thead > tr,\n",
       ".dataframe > tbody > tr {\n",
       "  text-align: right;\n",
       "  white-space: pre-wrap;\n",
       "}\n",
       "</style>\n",
       "<small>shape: (5, 3)</small><table border=\"1\" class=\"dataframe\"><thead><tr><th>id</th><th>custom_id</th><th>embedding</th></tr><tr><td>str</td><td>str</td><td>list[f64]</td></tr></thead><tbody><tr><td>&quot;batch_req_ggRKLe5fAIPEpfJXCdkpow9N&quot;</td><td>&quot;embedding_0&quot;</td><td>[-0.025043, 0.035453, … -0.017601]</td></tr><tr><td>&quot;batch_req_s5c4REzZvy3I2aZneUwOHE1P&quot;</td><td>&quot;embedding_1&quot;</td><td>[0.017219, 0.014126, … 0.003443]</td></tr><tr><td>&quot;batch_req_9OQjWJbWQgQoAQ8mvZ1y6Uck&quot;</td><td>&quot;embedding_2&quot;</td><td>[-0.034105, 0.015981, … 0.026129]</td></tr><tr><td>&quot;batch_req_3jJduJLsoDchcgISNbQjYHq6&quot;</td><td>&quot;embedding_3&quot;</td><td>[-0.008618, 0.037194, … -0.013461]</td></tr><tr><td>&quot;batch_req_8foQcerAKC5jEXxD4xDZsPaH&quot;</td><td>&quot;embedding_4&quot;</td><td>[0.0423, 0.020409, … 0.007719]</td></tr></tbody></table></div>"
      ],
      "text/plain": [
       "shape: (5, 3)\n",
       "┌────────────────────────────────────┬─────────────┬────────────────────────────────────┐\n",
       "│ id                                 ┆ custom_id   ┆ embedding                          │\n",
       "│ ---                                ┆ ---         ┆ ---                                │\n",
       "│ str                                ┆ str         ┆ list[f64]                          │\n",
       "╞════════════════════════════════════╪═════════════╪════════════════════════════════════╡\n",
       "│ batch_req_ggRKLe5fAIPEpfJXCdkpow9N ┆ embedding_0 ┆ [-0.025043, 0.035453, … -0.017601] │\n",
       "│ batch_req_s5c4REzZvy3I2aZneUwOHE1P ┆ embedding_1 ┆ [0.017219, 0.014126, … 0.003443]   │\n",
       "│ batch_req_9OQjWJbWQgQoAQ8mvZ1y6Uck ┆ embedding_2 ┆ [-0.034105, 0.015981, … 0.026129]  │\n",
       "│ batch_req_3jJduJLsoDchcgISNbQjYHq6 ┆ embedding_3 ┆ [-0.008618, 0.037194, … -0.013461] │\n",
       "│ batch_req_8foQcerAKC5jEXxD4xDZsPaH ┆ embedding_4 ┆ [0.0423, 0.020409, … 0.007719]     │\n",
       "└────────────────────────────────────┴─────────────┴────────────────────────────────────┘"
      ]
     },
     "execution_count": 9,
     "metadata": {},
     "output_type": "execute_result"
    }
   ],
   "source": [
    "df_table_embeddings = read_batch_embeddings_output_jsonl_to_polars(\n",
    "    \"../data/batch_table_text_embeddings/batch_output_table_text_embeddings_1.jsonl\"\n",
    ")\n",
    "df_table_embeddings.head()"
   ]
  },
  {
   "cell_type": "markdown",
   "metadata": {},
   "source": [
    "# Doc Text"
   ]
  },
  {
   "cell_type": "code",
   "execution_count": 10,
   "metadata": {},
   "outputs": [],
   "source": [
    "FILE_PATH = \"../data/2023-20-04_JO_7110.65AA.pdf\""
   ]
  },
  {
   "cell_type": "code",
   "execution_count": 11,
   "metadata": {},
   "outputs": [
    {
     "name": "stdout",
     "output_type": "stream",
     "text": [
      "689\n"
     ]
    },
    {
     "data": {
      "text/html": [
       "<div><style>\n",
       ".dataframe > thead > tr,\n",
       ".dataframe > tbody > tr {\n",
       "  text-align: right;\n",
       "  white-space: pre-wrap;\n",
       "}\n",
       "</style>\n",
       "<small>shape: (5, 3)</small><table border=\"1\" class=\"dataframe\"><thead><tr><th>page_number</th><th>contains_text</th><th>extracted_text</th></tr><tr><td>i64</td><td>i64</td><td>str</td></tr></thead><tbody><tr><td>1</td><td>1</td><td>&quot;ORDER \n",
       "JO 7110.65AA \n",
       "Air Traffic Organization Policy \n",
       "Effective Date: \n",
       "April 20, 2023 \n",
       "SUBJ: Air Traffic Control \n",
       "This order prescribes air tra ffic control procedures and phras eology for use by personnel providing \n",
       "air traffic control services. Controll ers are required to be familiar with the provisi ons of this order that \n",
       "pertain to their operational respon sibilities and to exercise their be st judgment if they encounter \n",
       "situations not covered by it. \n",
       "Natasha A. Durkins \n",
       "Vice President, Mission Support Services Air Traffic Organization \n",
       "Distribution: ZAT-710, ZAT-464 Initiated By: AJV-0 \n",
       "Vice President, Mission Support Services NATASHA A. \n",
       "DURKINSDigitally signed by NATASHA A. DURKINS Date: 2023.03.03 \n",
       "12:50:09 -05&#x27;00&#x27;&quot;</td></tr><tr><td>2</td><td>1</td><td>&quot;RECORD OF CHANGES DIRECTIVE NO.      JO 7110.65AA \n",
       "CHANGE \n",
       "TO \n",
       "BASIC SUPPLEMENTS \n",
       "OPTIONAL CHANGE \n",
       "TO \n",
       "BASIC SUPPLEMENTS \n",
       "OPTIONAL \n",
       "FAA Form 1320−5 (6−80) USE PREVIOUS EDITION&quot;</td></tr><tr><td>3</td><td>1</td><td>&quot;4/20/23 JO 7110.65AA \n",
       "Explanation of Changes \n",
       "Basic \n",
       "Direct questions through appropriate facility/service center office staff \n",
       "to the Office of Primary Interest (OPI) \n",
       "a. 1−2−6. ABBREVIATIONS \n",
       "5−1−2. ATC SURVEILLANCE SOURCE USE \n",
       "5−5−4. MINIMA \n",
       "5−5−7. PASSING OR DIVERGING \n",
       "5−5−9. SEPARATION FROM OBSTRUCTIONS \n",
       "5−13−8. CONTROLLER INITIA TED COAST TRACKS \n",
       "This change adds operational guidance associated with the use of the Standard Terminal Automation \n",
       "Replacement System (STARS) Multi −Sensor Mode when the sensor environment does not support the use \n",
       "of FUSION and the use of single sensor does not provide suf ficient surveillance coverage. Enhanced Backup \n",
       "Surveillance (EBUS) has been decommissioned throughout the National Airspace System (NAS) and \n",
       "references have been removed. \n",
       "b. 1−2−6. ABBREVIA TIONS \n",
       "5−3−4. TERMINAL AUT OMATION SYSTEMS IDENTIFICATION METHODS \n",
       "5−4−6. RECEIVING CONTROLLER HANDOFF \n",
       "This change reinstates “AM” to paragraphs 5 −3−4 and 5−4−6 and updates 5 −4−6 to include Micro −En Route \n",
       "Automated Radar T racking System (MEARTS). This  change also adds the definition of “AM” to 1 −2−6, and \n",
       "updates the current definition of AMB to remove the 2 −mile disparity value as it is locally adaptable and not \n",
       "uniform across all facilities. \n",
       "c. 2−1−4. OPERA TIONAL PRIORITY \n",
       "2−4−20. AIRCRAFT IDENTIFICATION \n",
       "9−2−17. SAMP FLIGHTS \n",
       "This change modifies the statement in paragraph 2 −4−20 that the “SAMP” call sign will be followed by a \n",
       "three− digit flight number instead of specifying the last three digits of the aircraft’s tail number. Other general \n",
       "edits and reference changes are made to paragraphs 2− 1−4, 2− 4−20, and 9− 2−17 for clarity. \n",
       "d. 2−1−4. OPERA TIONAL PRIORITY \n",
       "9−2−22. OPEN SKIES TREATY AIRCRAFT \n",
       "This change removes all documentation and references to Open Skies Treaty flights in paragraph 2 −1−4. This \n",
       "change deletes paragraph 9− 2−22, Open Skies Treaty Aircraft. \n",
       "e. 2−1−27. PILOT DEVIA TION NOTIFICATION \n",
       "This change renames the paragraph title and also adds a note to the paragraph identifying “Brasher Notification or Brasher Warning” as terms sometimes used to reference the phraseology for notifying a pilot \n",
       "of a possible pilot deviation. \n",
       "f. 2−6−4. ISSUING WEA THER AND CHAFF AREAS \n",
       "5−4−10. EN ROUTE FOUR TH LINE DATA BLOCK USAGE \n",
       "This change harmonizes the language in FAA Order JO 71 10.65 2− 6−4k and 5− 4−10f Note 2 and Note 3 in \n",
       "which it explains the use of /NA V AID, /waypoint, and /F entries in the 4th line of the Full Data Block (FDB) \n",
       "when an aircraft has been cleared to deviate for weather. Additionally, the designated characters used for \n",
       "coordinating deviations between two specified headings in FAA Order JO 7110.65 5 −4−10f were changed \n",
       "to eliminate ambiguity. \n",
       "g. 2−6−6. HAZARDOUS IN FLIGHT WEATHER ADVISORY \n",
       "This change acknowledges that controllers are no longer required to disseminate Airmen’s Meteorological Information (AIRMET) over the contiguous United States (CONUS). It updates the language in FAA Order \n",
       "Explanation of Changes E of C− 1&quot;</td></tr><tr><td>4</td><td>1</td><td>&quot;JO 7110.65AA 4/20/23 \n",
       "JO 7110.65, Air Traffic Control, paragraph 2 −6−6, to reflect the change. ATC facilities in the CONUS will \n",
       "no longer receive AIRMET advisories to broadcast; operators have other methods of receiving AIRMET \n",
       "information over the CONUS. \n",
       "h. 5−2−7. VFR CODE ASSIGNMENTS \n",
       "This change adds a Note advising that data blocks displaying beacon code 1203 represent the lead aircraft \n",
       "of a Visual Flight Rules (VFR) standard formation flight not receiving ATC services. \n",
       "i. 5−4−10. EN ROUTE FOUR TH LINE DATA BLOCK USAGE \n",
       "This change modifies FAA Order JO 7110.65, 5 −4−10g and 5− 4−10h, to accommodate the current En Route \n",
       "Automation Modernization (ERAM) display methods of assigned speed data. The use of the designation \n",
       "characters “M”, “S”, “+”, “−” and “.” will be included as acceptable methods to display speed assignment \n",
       "utilizing the four character limit for speed entries in the fourth line of the Full Data Block (FDB). \n",
       "j. 6−4−3. MINIMA ON OPPOSITE COURSES \n",
       "6−5−4. MINIMA ALONG OTHER THAN ESTABLISHED AIRWAYS OR ROUTES \n",
       "6−5−5. RNA V MINIMA − DIVERGING/CROSSING COURSES \n",
       "This change replaces the term “expanded route” in paragraphs 6 −4−3(c) and (d) and 6 −5−5(b) with language \n",
       "that will explicitly define when to apply the 18 mile separation standard. Also Figure 6 −5−4 will be corrected. \n",
       "k. 8−7−4. LATERAL SEPARATION \n",
       "8−8−4. LATERAL SEPARATION \n",
       "8−9−4. LATERAL SEPARATION \n",
       "8−10−4. LATERAL SEPARATION \n",
       "This change reduces the lateral separation minima from 30 NM to 23 NM in the oceanic airspaces of Oakland \n",
       "ARTCC, New York ARTCC, and portions of Anchorage ARTCC. This change also clarifies where 50 NM separation is used by removing the references to airspace that has been designated as Offshore Airspace from \n",
       "8−7−4 subparagraph b, and 8 −8−4 subparagraph b, by defining where it is used in New Y ork’s and San Juan’s \n",
       "airspace. This change cancels and incorporates N JO 7110.788, which was effective December 21, 2022. \n",
       "l. 9−2−12. LAW ENFORCEMENT OPERATIONS \n",
       "This change retitles paragraph 9 −2−12, reformats the paragraph by reorganizing and modifying the existing \n",
       "subparagraphs a. and b., and adds procedures required to ensure the effective use of sensitive government \n",
       "mission beacon codes and call signs. This change also eliminates outdated terminology and aligns the \n",
       "language with updates to other orders. This change cancels and incorporates N JO 7110.787, which was \n",
       "effective December 01, 2022 . \n",
       "m. 13−1−1. DESCRIPTION \n",
       "This change amends “flight plan data” to “current plan data” which is a more accurate depiction of how the En Route Decision Support Tool (EDST) calculates trajectories and predicts conflicts. It also adds a NOTE \n",
       "to define what is meant by “current plan.” \n",
       "n. Editorial Changes \n",
       "Editorial changes include updating references to re −numbered paragraphs, changing “operational \n",
       "supervisor” to “operations supervisor” where applicable, making the acronym DoD consistent throughout the \n",
       "order, changing “runway extended” to “extended runway” in paragraph 7 −4−4 to make consistent with the \n",
       "rest of the order, and deleting the obsolete ARTS to non −ARTS transition info in paragraph 2 −3−4. \n",
       "o. Entire publication \n",
       "Additional editorial/format changes were made where necessary. Revision bars were not used because of the \n",
       "insignificant nature of these changes. \n",
       "E of C− 2&quot;</td></tr><tr><td>5</td><td>1</td><td>&quot;4/20/23 JO 7110.65AA \n",
       "Table of Contents \n",
       "Chapter 1. General \n",
       "Section 1. Introduction \n",
       "Paragraph Page \n",
       "1−1−1. PURPOSE OF THIS ORDER ............................................ 1−1−1 \n",
       "1−1−2. AUDIENCE .......................................................... 1−1−1 \n",
       "1−1−3. WHERE TO FIND THIS ORDER ........................................ 1−1−1 \n",
       "1−1−4. WHAT THIS ORDER CANCELS ........................................ 1−1−1 \n",
       "1−1−5. EXPLANATION OF CHANGES ......................................... 1−1−1 \n",
       "1−1−6. EFFECTIVE DATES AND SUBMISSIONS FOR CHANGES .................. 1−1−1 \n",
       "1−1−7. DELIVERY DATES ................................................... 1−1−2 \n",
       "1−1−8. RECOMMENDATIONS FOR PROCEDURAL CHANGES .................... 1−1−2 \n",
       "1−1−9. REQUESTS FOR INTERPRETATIONS OR CLARIFICATIONS TO THIS ORDER 1 −1−2 \n",
       "1−1−10. PROCEDURAL LETTERS OF AGREEMENT (LOA) ....................... 1−1−3 \n",
       "1−1−11. CONSTRAINTS GOVERNING SUPPLEMENTS AND PROCEDURAL \n",
       "DEVIATIONS ....................................................... 1−1−3 \n",
       "1−1−12. SAFETY MANAGEMENT SYSTEM (SMS) .............................. 1−1−3 \n",
       "1−1−13. REFERENCES TO FAA NON−AIR TRAFFIC ORGANIZATIONS ............ 1−1−4 \n",
       "1−1−14. DISTRIBUTION ..................................................... 1−1−4 \n",
       "Section 2. Terms of Reference \n",
       "1−2−1. WORD MEANINGS ................................................... 1−2−1 \n",
       "1−2−2. COURSE DEFINITIONS ............................................... 1−2−2 \n",
       "1−2−3. NOTES ............................................................. 1−2−3 \n",
       "1−2−4. REFERENCES ....................................................... 1−2−3 \n",
       "1−2−5. ANNOTATIONS ...................................................... 1−2−3 \n",
       "1−2−6. ABBREVIATIONS .................................................... 1−2−4 \n",
       "Chapter 2. General Control \n",
       "Section 1. General \n",
       "2−1−1. ATC SERVICE ....................................................... 2−1−1 \n",
       "2−1−2. DUTY PRIORITY ..................................................... 2−1−2 \n",
       "2−1−3. PROCEDURAL PREFERENCE .......................................... 2−1−2 \n",
       "2−1−4. OPERATIONAL PRIORITY ............................................ 2−1−2 \n",
       "2−1−5. EXPEDITIOUS COMPLIANCE ......................................... 2−1−4 \n",
       "2−1−6. SAFETY ALERT ...................................................... 2−1−5 \n",
       "2−1−7. INFLIGHT EQUIPMENT MALFUNCTIONS ............................... 2−1−6 \n",
       "2−1−8. MINIMUM FUEL ..................................................... 2−1−6 \n",
       "2−1−9. REPORTING ESSENTIAL FLIGHT INFORMATION ........................ 2−1−6 \n",
       "2−1−10. NAVAID MALFUNCTIONS ........................................... 2−1−6 \n",
       "2−1−11. USE OF MARSA ..................................................... 2−1−7 \n",
       "2−1−12. MILITARY PROCEDURES ............................................ 2−1−8 \n",
       "2−1−13. FORMATION FLIGHTS ............................................... 2−1−8 \n",
       "2−1−14. COORDINATE USE OF AIRSPACE ..................................... 2−1−9 \n",
       "2−1−15. CONTROL TRANSFER ............................................... 2−1−10 \n",
       "Table of Contents i&quot;</td></tr></tbody></table></div>"
      ],
      "text/plain": [
       "shape: (5, 3)\n",
       "┌─────────────┬───────────────┬────────────────────────────────────────────────────────────────────┐\n",
       "│ page_number ┆ contains_text ┆ extracted_text                                                     │\n",
       "│ ---         ┆ ---           ┆ ---                                                                │\n",
       "│ i64         ┆ i64           ┆ str                                                                │\n",
       "╞═════════════╪═══════════════╪════════════════════════════════════════════════════════════════════╡\n",
       "│ 1           ┆ 1             ┆ ORDER                                                              │\n",
       "│             ┆               ┆ JO 7110.65AA                                                       │\n",
       "│             ┆               ┆ Air Traffic Organization Policy                                    │\n",
       "│             ┆               ┆ Effective Date:                                                    │\n",
       "│             ┆               ┆ April 20, 2023                                                     │\n",
       "│             ┆               ┆ SUBJ: Air Traffic Control                                          │\n",
       "│             ┆               ┆ This order prescribes air tra ffic control procedures and phras    │\n",
       "│             ┆               ┆ eology for use by personnel providing                              │\n",
       "│             ┆               ┆ air traffic control services. Controll ers are required to be      │\n",
       "│             ┆               ┆ familiar with the provisi ons of this order that                   │\n",
       "│             ┆               ┆ pertain to their operational respon sibilities and to exercise     │\n",
       "│             ┆               ┆ their be st judgment if they encounter                             │\n",
       "│             ┆               ┆ situations not covered by it.                                      │\n",
       "│             ┆               ┆ Natasha A. Durkins                                                 │\n",
       "│             ┆               ┆ Vice President, Mission Support Services Air Traffic Organization  │\n",
       "│             ┆               ┆ Distribution: ZAT-710, ZAT-464 Initiated By: AJV-0                 │\n",
       "│             ┆               ┆ Vice President, Mission Support Services NATASHA A.                │\n",
       "│             ┆               ┆ DURKINSDigitally signed by NATASHA A. DURKINS Date: 2023.03.03     │\n",
       "│             ┆               ┆ 12:50:09 -05'00'                                                   │\n",
       "│ 2           ┆ 1             ┆ RECORD OF CHANGES DIRECTIVE NO.      JO 7110.65AA                  │\n",
       "│             ┆               ┆ CHANGE                                                             │\n",
       "│             ┆               ┆ TO                                                                 │\n",
       "│             ┆               ┆ BASIC SUPPLEMENTS                                                  │\n",
       "│             ┆               ┆ OPTIONAL CHANGE                                                    │\n",
       "│             ┆               ┆ TO                                                                 │\n",
       "│             ┆               ┆ BASIC SUPPLEMENTS                                                  │\n",
       "│             ┆               ┆ OPTIONAL                                                           │\n",
       "│             ┆               ┆ FAA Form 1320−5 (6−80) USE PREVIOUS EDITION                        │\n",
       "│ 3           ┆ 1             ┆ 4/20/23 JO 7110.65AA                                               │\n",
       "│             ┆               ┆ Explanation of Changes                                             │\n",
       "│             ┆               ┆ Basic                                                              │\n",
       "│             ┆               ┆ Direct questions through appropriate facility/service center       │\n",
       "│             ┆               ┆ office staff                                                       │\n",
       "│             ┆               ┆ to the Office of Primary Interest (OPI)                            │\n",
       "│             ┆               ┆ a. 1−2−6. ABBREVIATIONS                                            │\n",
       "│             ┆               ┆ 5−1−2. ATC SURVEILLANCE SOURCE USE                                 │\n",
       "│             ┆               ┆ 5−5−4. MINIMA                                                      │\n",
       "│             ┆               ┆ 5−5−7. PASSING OR DIVERGING                                        │\n",
       "│             ┆               ┆ 5−5−9. SEPARATION FROM OBSTRUCTIONS                                │\n",
       "│             ┆               ┆ 5−13−8. CONTROLLER INITIA TED COAST TRACKS                         │\n",
       "│             ┆               ┆ This change adds operational guidance associated with the use of   │\n",
       "│             ┆               ┆ the Standard Terminal Automation                                   │\n",
       "│             ┆               ┆ Replacement System (STARS) Multi −Sensor Mode when the sensor      │\n",
       "│             ┆               ┆ environment does not support the use                               │\n",
       "│             ┆               ┆ of FUSION and the use of single sensor does not provide suf        │\n",
       "│             ┆               ┆ ficient surveillance coverage. Enhanced Backup                     │\n",
       "│             ┆               ┆ Surveillance (EBUS) has been decommissioned throughout the         │\n",
       "│             ┆               ┆ National Airspace System (NAS) and                                 │\n",
       "│             ┆               ┆ references have been removed.                                      │\n",
       "│             ┆               ┆ b. 1−2−6. ABBREVIA TIONS                                           │\n",
       "│             ┆               ┆ 5−3−4. TERMINAL AUT OMATION SYSTEMS IDENTIFICATION METHODS         │\n",
       "│             ┆               ┆ 5−4−6. RECEIVING CONTROLLER HANDOFF                                │\n",
       "│             ┆               ┆ This change reinstates “AM” to paragraphs 5 −3−4 and 5−4−6 and     │\n",
       "│             ┆               ┆ updates 5 −4−6 to include Micro −En Route                          │\n",
       "│             ┆               ┆ Automated Radar T racking System (MEARTS). This  change also adds  │\n",
       "│             ┆               ┆ the definition of “AM” to 1 −2−6, and                              │\n",
       "│             ┆               ┆ updates the current definition of AMB to remove the 2 −mile        │\n",
       "│             ┆               ┆ disparity value as it is locally adaptable and not                 │\n",
       "│             ┆               ┆ uniform across all facilities.                                     │\n",
       "│             ┆               ┆ c. 2−1−4. OPERA TIONAL PRIORITY                                    │\n",
       "│             ┆               ┆ 2−4−20. AIRCRAFT IDENTIFICATION                                    │\n",
       "│             ┆               ┆ 9−2−17. SAMP FLIGHTS                                               │\n",
       "│             ┆               ┆ This change modifies the statement in paragraph 2 −4−20 that the   │\n",
       "│             ┆               ┆ “SAMP” call sign will be followed by a                             │\n",
       "│             ┆               ┆ three− digit flight number instead of specifying the last three    │\n",
       "│             ┆               ┆ digits of the aircraft’s tail number. Other general                │\n",
       "│             ┆               ┆ edits and reference changes are made to paragraphs 2− 1−4, 2−      │\n",
       "│             ┆               ┆ 4−20, and 9− 2−17 for clarity.                                     │\n",
       "│             ┆               ┆ d. 2−1−4. OPERA TIONAL PRIORITY                                    │\n",
       "│             ┆               ┆ 9−2−22. OPEN SKIES TREATY AIRCRAFT                                 │\n",
       "│             ┆               ┆ This change removes all documentation and references to Open Skies │\n",
       "│             ┆               ┆ Treaty flights in paragraph 2 −1−4. This                           │\n",
       "│             ┆               ┆ change deletes paragraph 9− 2−22, Open Skies Treaty Aircraft.      │\n",
       "│             ┆               ┆ e. 2−1−27. PILOT DEVIA TION NOTIFICATION                           │\n",
       "│             ┆               ┆ This change renames the paragraph title and also adds a note to    │\n",
       "│             ┆               ┆ the paragraph identifying “Brasher Notification or Brasher         │\n",
       "│             ┆               ┆ Warning” as terms sometimes used to reference the phraseology for  │\n",
       "│             ┆               ┆ notifying a pilot                                                  │\n",
       "│             ┆               ┆ of a possible pilot deviation.                                     │\n",
       "│             ┆               ┆ f. 2−6−4. ISSUING WEA THER AND CHAFF AREAS                         │\n",
       "│             ┆               ┆ 5−4−10. EN ROUTE FOUR TH LINE DATA BLOCK USAGE                     │\n",
       "│             ┆               ┆ This change harmonizes the language in FAA Order JO 71 10.65 2−    │\n",
       "│             ┆               ┆ 6−4k and 5− 4−10f Note 2 and Note 3 in                             │\n",
       "│             ┆               ┆ which it explains the use of /NA V AID, /waypoint, and /F entries  │\n",
       "│             ┆               ┆ in the 4th line of the Full Data Block (FDB)                       │\n",
       "│             ┆               ┆ when an aircraft has been cleared to deviate for weather.          │\n",
       "│             ┆               ┆ Additionally, the designated characters used for                   │\n",
       "│             ┆               ┆ coordinating deviations between two specified headings in FAA      │\n",
       "│             ┆               ┆ Order JO 7110.65 5 −4−10f were changed                             │\n",
       "│             ┆               ┆ to eliminate ambiguity.                                            │\n",
       "│             ┆               ┆ g. 2−6−6. HAZARDOUS IN FLIGHT WEATHER ADVISORY                     │\n",
       "│             ┆               ┆ This change acknowledges that controllers are no longer required   │\n",
       "│             ┆               ┆ to disseminate Airmen’s Meteorological Information (AIRMET) over   │\n",
       "│             ┆               ┆ the contiguous United States (CONUS). It updates the language in   │\n",
       "│             ┆               ┆ FAA Order                                                          │\n",
       "│             ┆               ┆ Explanation of Changes E of C− 1                                   │\n",
       "│ 4           ┆ 1             ┆ JO 7110.65AA 4/20/23                                               │\n",
       "│             ┆               ┆ JO 7110.65, Air Traffic Control, paragraph 2 −6−6, to reflect the  │\n",
       "│             ┆               ┆ change. ATC facilities in the CONUS will                           │\n",
       "│             ┆               ┆ no longer receive AIRMET advisories to broadcast; operators have   │\n",
       "│             ┆               ┆ other methods of receiving AIRMET                                  │\n",
       "│             ┆               ┆ information over the CONUS.                                        │\n",
       "│             ┆               ┆ h. 5−2−7. VFR CODE ASSIGNMENTS                                     │\n",
       "│             ┆               ┆ This change adds a Note advising that data blocks displaying       │\n",
       "│             ┆               ┆ beacon code 1203 represent the lead aircraft                       │\n",
       "│             ┆               ┆ of a Visual Flight Rules (VFR) standard formation flight not       │\n",
       "│             ┆               ┆ receiving ATC services.                                            │\n",
       "│             ┆               ┆ i. 5−4−10. EN ROUTE FOUR TH LINE DATA BLOCK USAGE                  │\n",
       "│             ┆               ┆ This change modifies FAA Order JO 7110.65, 5 −4−10g and 5− 4−10h,  │\n",
       "│             ┆               ┆ to accommodate the current En Route                                │\n",
       "│             ┆               ┆ Automation Modernization (ERAM) display methods of assigned speed  │\n",
       "│             ┆               ┆ data. The use of the designation                                   │\n",
       "│             ┆               ┆ characters “M”, “S”, “+”, “−” and “.” will be included as          │\n",
       "│             ┆               ┆ acceptable methods to display speed assignment                     │\n",
       "│             ┆               ┆ utilizing the four character limit for speed entries in the fourth │\n",
       "│             ┆               ┆ line of the Full Data Block (FDB).                                 │\n",
       "│             ┆               ┆ j. 6−4−3. MINIMA ON OPPOSITE COURSES                               │\n",
       "│             ┆               ┆ 6−5−4. MINIMA ALONG OTHER THAN ESTABLISHED AIRWAYS OR ROUTES       │\n",
       "│             ┆               ┆ 6−5−5. RNA V MINIMA − DIVERGING/CROSSING COURSES                   │\n",
       "│             ┆               ┆ This change replaces the term “expanded route” in paragraphs 6     │\n",
       "│             ┆               ┆ −4−3(c) and (d) and 6 −5−5(b) with language                        │\n",
       "│             ┆               ┆ that will explicitly define when to apply the 18 mile separation   │\n",
       "│             ┆               ┆ standard. Also Figure 6 −5−4 will be corrected.                    │\n",
       "│             ┆               ┆ k. 8−7−4. LATERAL SEPARATION                                       │\n",
       "│             ┆               ┆ 8−8−4. LATERAL SEPARATION                                          │\n",
       "│             ┆               ┆ 8−9−4. LATERAL SEPARATION                                          │\n",
       "│             ┆               ┆ 8−10−4. LATERAL SEPARATION                                         │\n",
       "│             ┆               ┆ This change reduces the lateral separation minima from 30 NM to 23 │\n",
       "│             ┆               ┆ NM in the oceanic airspaces of Oakland                             │\n",
       "│             ┆               ┆ ARTCC, New York ARTCC, and portions of Anchorage ARTCC. This       │\n",
       "│             ┆               ┆ change also clarifies where 50 NM separation is used by removing   │\n",
       "│             ┆               ┆ the references to airspace that has been designated as Offshore    │\n",
       "│             ┆               ┆ Airspace from                                                      │\n",
       "│             ┆               ┆ 8−7−4 subparagraph b, and 8 −8−4 subparagraph b, by defining where │\n",
       "│             ┆               ┆ it is used in New Y ork’s and San Juan’s                           │\n",
       "│             ┆               ┆ airspace. This change cancels and incorporates N JO 7110.788,      │\n",
       "│             ┆               ┆ which was effective December 21, 2022.                             │\n",
       "│             ┆               ┆ l. 9−2−12. LAW ENFORCEMENT OPERATIONS                              │\n",
       "│             ┆               ┆ This change retitles paragraph 9 −2−12, reformats the paragraph by │\n",
       "│             ┆               ┆ reorganizing and modifying the existing                            │\n",
       "│             ┆               ┆ subparagraphs a. and b., and adds procedures required to ensure    │\n",
       "│             ┆               ┆ the effective use of sensitive government                          │\n",
       "│             ┆               ┆ mission beacon codes and call signs. This change also eliminates   │\n",
       "│             ┆               ┆ outdated terminology and aligns the                                │\n",
       "│             ┆               ┆ language with updates to other orders. This change cancels and     │\n",
       "│             ┆               ┆ incorporates N JO 7110.787, which was                              │\n",
       "│             ┆               ┆ effective December 01, 2022 .                                      │\n",
       "│             ┆               ┆ m. 13−1−1. DESCRIPTION                                             │\n",
       "│             ┆               ┆ This change amends “flight plan data” to “current plan data” which │\n",
       "│             ┆               ┆ is a more accurate depiction of how the En Route Decision Support  │\n",
       "│             ┆               ┆ Tool (EDST) calculates trajectories and predicts conflicts. It     │\n",
       "│             ┆               ┆ also adds a NOTE                                                   │\n",
       "│             ┆               ┆ to define what is meant by “current plan.”                         │\n",
       "│             ┆               ┆ n. Editorial Changes                                               │\n",
       "│             ┆               ┆ Editorial changes include updating references to re −numbered      │\n",
       "│             ┆               ┆ paragraphs, changing “operational                                  │\n",
       "│             ┆               ┆ supervisor” to “operations supervisor” where applicable, making    │\n",
       "│             ┆               ┆ the acronym DoD consistent throughout the                          │\n",
       "│             ┆               ┆ order, changing “runway extended” to “extended runway” in          │\n",
       "│             ┆               ┆ paragraph 7 −4−4 to make consistent with the                       │\n",
       "│             ┆               ┆ rest of the order, and deleting the obsolete ARTS to non −ARTS     │\n",
       "│             ┆               ┆ transition info in paragraph 2 −3−4.                               │\n",
       "│             ┆               ┆ o. Entire publication                                              │\n",
       "│             ┆               ┆ Additional editorial/format changes were made where necessary.     │\n",
       "│             ┆               ┆ Revision bars were not used because of the                         │\n",
       "│             ┆               ┆ insignificant nature of these changes.                             │\n",
       "│             ┆               ┆ E of C− 2                                                          │\n",
       "│ 5           ┆ 1             ┆ 4/20/23 JO 7110.65AA                                               │\n",
       "│             ┆               ┆ Table of Contents                                                  │\n",
       "│             ┆               ┆ Chapter 1. General                                                 │\n",
       "│             ┆               ┆ Section 1. Introduction                                            │\n",
       "│             ┆               ┆ Paragraph Page                                                     │\n",
       "│             ┆               ┆ 1−1−1. PURPOSE OF THIS ORDER                                       │\n",
       "│             ┆               ┆ ............................................ 1−1−1                 │\n",
       "│             ┆               ┆ 1−1−2. AUDIENCE                                                    │\n",
       "│             ┆               ┆ .......................................................... 1−1−1   │\n",
       "│             ┆               ┆ 1−1−3. WHERE TO FIND THIS ORDER                                    │\n",
       "│             ┆               ┆ ........................................ 1−1−1                     │\n",
       "│             ┆               ┆ 1−1−4. WHAT THIS ORDER CANCELS                                     │\n",
       "│             ┆               ┆ ........................................ 1−1−1                     │\n",
       "│             ┆               ┆ 1−1−5. EXPLANATION OF CHANGES                                      │\n",
       "│             ┆               ┆ ......................................... 1−1−1                    │\n",
       "│             ┆               ┆ 1−1−6. EFFECTIVE DATES AND SUBMISSIONS FOR CHANGES                 │\n",
       "│             ┆               ┆ .................. 1−1−1                                           │\n",
       "│             ┆               ┆ 1−1−7. DELIVERY DATES                                              │\n",
       "│             ┆               ┆ ................................................... 1−1−2          │\n",
       "│             ┆               ┆ 1−1−8. RECOMMENDATIONS FOR PROCEDURAL CHANGES .................... │\n",
       "│             ┆               ┆ 1−1−2                                                              │\n",
       "│             ┆               ┆ 1−1−9. REQUESTS FOR INTERPRETATIONS OR CLARIFICATIONS TO THIS      │\n",
       "│             ┆               ┆ ORDER 1 −1−2                                                       │\n",
       "│             ┆               ┆ 1−1−10. PROCEDURAL LETTERS OF AGREEMENT (LOA)                      │\n",
       "│             ┆               ┆ ....................... 1−1−3                                      │\n",
       "│             ┆               ┆ 1−1−11. CONSTRAINTS GOVERNING SUPPLEMENTS AND PROCEDURAL           │\n",
       "│             ┆               ┆ DEVIATIONS ....................................................... │\n",
       "│             ┆               ┆ 1−1−3                                                              │\n",
       "│             ┆               ┆ 1−1−12. SAFETY MANAGEMENT SYSTEM (SMS)                             │\n",
       "│             ┆               ┆ .............................. 1−1−3                               │\n",
       "│             ┆               ┆ 1−1−13. REFERENCES TO FAA NON−AIR TRAFFIC ORGANIZATIONS            │\n",
       "│             ┆               ┆ ............ 1−1−4                                                 │\n",
       "│             ┆               ┆ 1−1−14. DISTRIBUTION                                               │\n",
       "│             ┆               ┆ ..................................................... 1−1−4        │\n",
       "│             ┆               ┆ Section 2. Terms of Reference                                      │\n",
       "│             ┆               ┆ 1−2−1. WORD MEANINGS                                               │\n",
       "│             ┆               ┆ ................................................... 1−2−1          │\n",
       "│             ┆               ┆ 1−2−2. COURSE DEFINITIONS                                          │\n",
       "│             ┆               ┆ ............................................... 1−2−2              │\n",
       "│             ┆               ┆ 1−2−3. NOTES                                                       │\n",
       "│             ┆               ┆ .............................................................      │\n",
       "│             ┆               ┆ 1−2−3                                                              │\n",
       "│             ┆               ┆ 1−2−4. REFERENCES                                                  │\n",
       "│             ┆               ┆ ....................................................... 1−2−3      │\n",
       "│             ┆               ┆ 1−2−5. ANNOTATIONS                                                 │\n",
       "│             ┆               ┆ ...................................................... 1−2−3       │\n",
       "│             ┆               ┆ 1−2−6. ABBREVIATIONS                                               │\n",
       "│             ┆               ┆ .................................................... 1−2−4         │\n",
       "│             ┆               ┆ Chapter 2. General Control                                         │\n",
       "│             ┆               ┆ Section 1. General                                                 │\n",
       "│             ┆               ┆ 2−1−1. ATC SERVICE                                                 │\n",
       "│             ┆               ┆ ....................................................... 2−1−1      │\n",
       "│             ┆               ┆ 2−1−2. DUTY PRIORITY                                               │\n",
       "│             ┆               ┆ ..................................................... 2−1−2        │\n",
       "│             ┆               ┆ 2−1−3. PROCEDURAL PREFERENCE                                       │\n",
       "│             ┆               ┆ .......................................... 2−1−2                   │\n",
       "│             ┆               ┆ 2−1−4. OPERATIONAL PRIORITY                                        │\n",
       "│             ┆               ┆ ............................................ 2−1−2                 │\n",
       "│             ┆               ┆ 2−1−5. EXPEDITIOUS COMPLIANCE                                      │\n",
       "│             ┆               ┆ ......................................... 2−1−4                    │\n",
       "│             ┆               ┆ 2−1−6. SAFETY ALERT                                                │\n",
       "│             ┆               ┆ ...................................................... 2−1−5       │\n",
       "│             ┆               ┆ 2−1−7. INFLIGHT EQUIPMENT MALFUNCTIONS                             │\n",
       "│             ┆               ┆ ............................... 2−1−6                              │\n",
       "│             ┆               ┆ 2−1−8. MINIMUM FUEL                                                │\n",
       "│             ┆               ┆ ..................................................... 2−1−6        │\n",
       "│             ┆               ┆ 2−1−9. REPORTING ESSENTIAL FLIGHT INFORMATION                      │\n",
       "│             ┆               ┆ ........................ 2−1−6                                     │\n",
       "│             ┆               ┆ 2−1−10. NAVAID MALFUNCTIONS                                        │\n",
       "│             ┆               ┆ ........................................... 2−1−6                  │\n",
       "│             ┆               ┆ 2−1−11. USE OF MARSA                                               │\n",
       "│             ┆               ┆ ..................................................... 2−1−7        │\n",
       "│             ┆               ┆ 2−1−12. MILITARY PROCEDURES                                        │\n",
       "│             ┆               ┆ ............................................ 2−1−8                 │\n",
       "│             ┆               ┆ 2−1−13. FORMATION FLIGHTS                                          │\n",
       "│             ┆               ┆ ............................................... 2−1−8              │\n",
       "│             ┆               ┆ 2−1−14. COORDINATE USE OF AIRSPACE                                 │\n",
       "│             ┆               ┆ ..................................... 2−1−9                        │\n",
       "│             ┆               ┆ 2−1−15. CONTROL TRANSFER                                           │\n",
       "│             ┆               ┆ ............................................... 2−1−10             │\n",
       "│             ┆               ┆ Table of Contents i                                                │\n",
       "└─────────────┴───────────────┴────────────────────────────────────────────────────────────────────┘"
      ]
     },
     "execution_count": 11,
     "metadata": {},
     "output_type": "execute_result"
    }
   ],
   "source": [
    "df_doc_text = analyze_pdf_text_content(FILE_PATH)\n",
    "print(df_doc_text.height)\n",
    "df_doc_text.head()"
   ]
  },
  {
   "cell_type": "markdown",
   "metadata": {},
   "source": [
    "### Chunking"
   ]
  },
  {
   "cell_type": "code",
   "execution_count": 12,
   "metadata": {},
   "outputs": [],
   "source": [
    "doc_text_splitter = RecursiveCharacterTextSplitter(chunk_size=450, chunk_overlap=50)"
   ]
  },
  {
   "cell_type": "code",
   "execution_count": 13,
   "metadata": {},
   "outputs": [
    {
     "name": "stdout",
     "output_type": "stream",
     "text": [
      "Total table text chunks: 4536\n"
     ]
    }
   ],
   "source": [
    "doc_text_chunks = doc_text_splitter.create_documents(df_doc_text[\"extracted_text\"])\n",
    "doc_text_chunks = [tc.page_content.replace(\"\\n\", \" \") for tc in doc_text_chunks]\n",
    "print(f\"Total table text chunks: {len(doc_text_chunks)}\")"
   ]
  },
  {
   "cell_type": "code",
   "execution_count": 14,
   "metadata": {},
   "outputs": [
    {
     "name": "stdout",
     "output_type": "stream",
     "text": [
      "['ORDER  JO 7110.65AA  Air Traffic Organization Policy  Effective Date:  April 20, 2023  SUBJ: Air Traffic Control  This order prescribes air tra ffic control procedures and phras eology for use by personnel providing  air traffic control services. Controll ers are required to be familiar with the provisi ons of this order that  pertain to their operational respon sibilities and to exercise their be st judgment if they encounter', \"situations not covered by it.  Natasha A. Durkins  Vice President, Mission Support Services Air Traffic Organization  Distribution: ZAT-710, ZAT-464 Initiated By: AJV-0  Vice President, Mission Support Services NATASHA A.  DURKINSDigitally signed by NATASHA A. DURKINS Date: 2023.03.03  12:50:09 -05'00'\", 'RECORD OF CHANGES DIRECTIVE NO.      JO 7110.65AA  CHANGE  TO  BASIC SUPPLEMENTS  OPTIONAL CHANGE  TO  BASIC SUPPLEMENTS  OPTIONAL  FAA Form 1320−5 (6−80) USE PREVIOUS EDITION', '4/20/23 JO 7110.65AA  Explanation of Changes  Basic  Direct questions through appropriate facility/service center office staff  to the Office of Primary Interest (OPI)  a. 1−2−6. ABBREVIATIONS  5−1−2. ATC SURVEILLANCE SOURCE USE  5−5−4. MINIMA  5−5−7. PASSING OR DIVERGING  5−5−9. SEPARATION FROM OBSTRUCTIONS  5−13−8. CONTROLLER INITIA TED COAST TRACKS', '5−13−8. CONTROLLER INITIA TED COAST TRACKS  This change adds operational guidance associated with the use of the Standard Terminal Automation  Replacement System (STARS) Multi −Sensor Mode when the sensor environment does not support the use  of FUSION and the use of single sensor does not provide suf ficient surveillance coverage. Enhanced Backup  Surveillance (EBUS) has been decommissioned throughout the National Airspace System (NAS) and']\n"
     ]
    }
   ],
   "source": [
    "print(doc_text_chunks[0:5])"
   ]
  },
  {
   "cell_type": "markdown",
   "metadata": {},
   "source": [
    "### Input Token Cost"
   ]
  },
  {
   "cell_type": "code",
   "execution_count": 16,
   "metadata": {},
   "outputs": [
    {
     "name": "stdout",
     "output_type": "stream",
     "text": [
      "The cost for 419656 input tokens is about $0.0084.\n",
      "The batch cost for 419656 input tokens is about $0.0042.\n"
     ]
    }
   ],
   "source": [
    "tokens = []\n",
    "for text in doc_text_chunks:\n",
    "    num_tokens = get_num_tokens_from_string(text, encoding_name=\"gpt-4o\")\n",
    "    tokens.append(num_tokens)\n",
    "total_tokens = sum(tokens)\n",
    "\n",
    "total_input_token_cost = calculate_token_pricing(total_tokens, TEXT_EMBEDDING_3_SMALL_PRICE_PER_MILLION_INPUT_TOKENS)\n",
    "print(f\"The cost for {total_tokens} input tokens is about ${total_input_token_cost}.\")\n",
    "\n",
    "total_input_token_batch_cost = calculate_token_pricing(\n",
    "    total_tokens, TEXT_EMBEDDING_3_BATCH_PRICE_PER_MILLION_INPUT_TOKENS\n",
    ")\n",
    "print(f\"The batch cost for {total_tokens} input tokens is about ${total_input_token_batch_cost}.\")"
   ]
  },
  {
   "cell_type": "markdown",
   "metadata": {},
   "source": [
    "### OpenAI Batch"
   ]
  },
  {
   "cell_type": "code",
   "execution_count": 17,
   "metadata": {},
   "outputs": [
    {
     "name": "stdout",
     "output_type": "stream",
     "text": [
      "Written 4536 requests to ../data/batch_doc_text_embeddings/doc_text_embeddings_1.jsonl.\n",
      "Total requests written across all files: 4536\n"
     ]
    }
   ],
   "source": [
    "write_requests_to_jsonl(\n",
    "    doc_text_chunks,\n",
    "    base_output_path=\"../data/batch_doc_text_embeddings\",\n",
    "    batch_request_file=\"doc_text_embeddings\",\n",
    "    create_request=create_embedding_request,\n",
    ")"
   ]
  },
  {
   "cell_type": "code",
   "execution_count": 25,
   "metadata": {},
   "outputs": [],
   "source": [
    "# create_openai_batch_process(\n",
    "#     api_key=os.environ.get(\"OPENAI_API_KEY\"),\n",
    "#     batch_request_file=\"../data/batch_doc_text_embeddings/doc_text_embeddings_1.jsonl\",\n",
    "#     batch_response_file=\"../data/batch_doc_text_embeddings/batch_response_doc_text_embeddings_1.json\",\n",
    "#     endpoint=\"/v1/embeddings\",\n",
    "#     description=\"doc text embeddings 1\"\n",
    "#     )"
   ]
  },
  {
   "cell_type": "code",
   "execution_count": 29,
   "metadata": {},
   "outputs": [
    {
     "name": "stdout",
     "output_type": "stream",
     "text": [
      "OpenAI batch job batch_66fdec4a0754819080514ec411bab87a has status: finalizing\n"
     ]
    }
   ],
   "source": [
    "check_openai_batch_status(\n",
    "    api_key=os.environ.get(\"OPENAI_API_KEY\"),\n",
    "    batch_response_file=\"../data/batch_doc_text_embeddings/batch_response_doc_text_embeddings_1.json\",\n",
    "    output_file=\"../data/batch_doc_text_embeddings/batch_output_doc_text_embeddings_1.jsonl\",\n",
    ")"
   ]
  },
  {
   "cell_type": "markdown",
   "metadata": {},
   "source": [
    "### Output"
   ]
  },
  {
   "cell_type": "code",
   "execution_count": null,
   "metadata": {},
   "outputs": [],
   "source": [
    "df_doc_text_embeddings = read_batch_embeddings_output_jsonl_to_polars(\n",
    "    \"../data/batch_doc_text_embeddings/batch_output_doc_text_embeddings_1.jsonl\"\n",
    ")\n",
    "df_doc_text_embeddings.head()"
   ]
  }
 ],
 "metadata": {
  "kernelspec": {
   "display_name": "Python 3",
   "language": "python",
   "name": "python3"
  },
  "language_info": {
   "codemirror_mode": {
    "name": "ipython",
    "version": 3
   },
   "file_extension": ".py",
   "mimetype": "text/x-python",
   "name": "python",
   "nbconvert_exporter": "python",
   "pygments_lexer": "ipython3",
   "version": "3.10.12"
  }
 },
 "nbformat": 4,
 "nbformat_minor": 2
}
